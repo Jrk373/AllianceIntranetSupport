{
  "cells": [
    {
      "cell_type": "markdown",
      "metadata": {
        "id": "view-in-github",
        "colab_type": "text"
      },
      "source": [
        "<a href=\"https://colab.research.google.com/github/Jrk373/AllianceIntranetSupport/blob/main/Copy_of_MachineLearningDemo_20240118.ipynb\" target=\"_parent\"><img src=\"https://colab.research.google.com/assets/colab-badge.svg\" alt=\"Open In Colab\"/></a>"
      ]
    },
    {
      "cell_type": "markdown",
      "source": [
        "# Create a Narrow AI using Linear Regression\n",
        "John Ryan Kivela  \n",
        "The Narbha Institute  \n",
        "January 2025\n"
      ],
      "metadata": {
        "id": "gn_VG9XHGtQP"
      }
    },
    {
      "cell_type": "markdown",
      "metadata": {
        "id": "lvL9Lkhg4aON"
      },
      "source": [
        "# Introduction\n",
        "\n",
        "This is walkthrough demonstration of fundemental Machine Learning concepts and techniques used in developing Artificial Intelligence (AI).\n",
        "\n",
        "The activity will create a Narrow Artificial Intelligence, called Rayne 1.0, who will tell us the Sale Price of a house. Narrow AI, also known as Weak AI, is a type of artificial intelligence designed to perform a specific task or solve a particular problem with high efficiency. Unlike General AI, Narrow AI is limited in scope and cannot adapt to tasks outside its predefined domain.\n",
        "\n",
        "The notebook relies heavily on foundations from the ODSC West 2024 AI Bootcamp. It is referenced specificfally throughout, but can also be acknoweldged broadly as the inspiration for this notebook. This notebook also partners with AI as a generator of code and content.\n",
        "\n",
        "## Intended Audience\n",
        "\n",
        "- The intended audience is a discerning group of professionals with strong data literacy, advanced education in mathematics like Central Limits Theorum (Mean, Median, Mode, Standard Deviation, etc.), and basic Linear Algebra.\n",
        "\n",
        "- It is not necessary to understand computer languages for this activity. This notebook primarily speaks in Python, but it is programmed to run all code and calculations out-of-the-box.\n",
        "\n",
        "## Materials\n",
        "\n",
        "- This notebook is open source. All of these materials will be located in a public Github repository.\n",
        "\n",
        "https://github.com/Jrk373/ODSC_AI_5_Week_Bootcamp/tree/main\n",
        "\n",
        "- The goal is for the instructor to walk through the Notebook with the audience watching and discussing. Then the instructor and the class go through the notebook together. The learner can then go on to use the Notebook on their own.\n",
        "\n",
        "## CRISP-DM\n",
        "\n",
        "CRISP-DM stands for Cross-Industry Standard Process for Data Mining. It's a popular method used to guide data mining and data science projects. The process is divided into six main phases:\n",
        "\n",
        "- **Business Understanding:** Understand the project's goals and requirements from a business perspective.\n",
        "- **Data Understanding:** Collect and analyze the data to understand its characteristics.\n",
        "- **Data Preparation:** Clean and prepare the data for analysis.\n",
        "- **Modeling:** Apply different modeling techniques to the prepared data.\n",
        "- **Evaluation:** Assess the models to ensure they meet the business objectives.\n",
        "- **Deployment:** Implement the model in the real-world environment and monitor its performance.\n",
        "\n",
        "## Object Oriented Programming\n",
        "\n",
        "## Python\n",
        "\n",
        "## Jupyter Notebooks\n",
        "\n",
        "## Enjoy!"
      ]
    },
    {
      "cell_type": "markdown",
      "metadata": {
        "id": "mCaKvqmJib-x"
      },
      "source": [
        "# Stage 1: Business Understanding\n",
        "\n",
        "\n",
        "\n"
      ]
    },
    {
      "cell_type": "markdown",
      "metadata": {
        "id": "MbaRt27G8_9Y"
      },
      "source": [
        "The Business Understanding phase of CRISP-DM focuses on defining the project’s goals and objectives from a business perspective. This stage ensures that the data science work aligns with the organization’s needs and delivers value."
      ]
    },
    {
      "cell_type": "markdown",
      "metadata": {
        "id": "w91lB5OM8qFs"
      },
      "source": [
        "# Stage 2: Data Understanding"
      ]
    },
    {
      "cell_type": "markdown",
      "metadata": {
        "id": "i0V3ftNXpJW8"
      },
      "source": [
        "The Data Understanding phase of the CRISP-DM (Cross-Industry Standard Process for Data Mining) framework focuses on exploring and analyzing the available data to ensure it is suitable for the project's goals.\n",
        "\n",
        "It involves the following steps:\n",
        "\n",
        "- **Data Collection:** Gather initial data from relevant sources.\n",
        "\n",
        "- **Data Description:** Summarize key attributes, including data types, formats, and basic statistics (e.g., means, counts, ranges).\n",
        "\n",
        "- **Data Exploration:** Use visualizations and analyses to identify patterns, trends, or potential relationships in the data.\n",
        "\n",
        "- **Data Quality Assessment:** Check for issues such as missing values, outliers, inconsistencies, or inaccuracies.\n",
        "The objective is to develop insights into the data, identify challenges, and determine whether it can support the project's objectives effectively."
      ]
    },
    {
      "cell_type": "markdown",
      "metadata": {
        "id": "A_PDSTY-eax-"
      },
      "source": [
        "## House Prices Data Set\n",
        "\n",
        "The Kaggle House Price Dataset, officially titled \"House Prices: Advanced Regression Techniques,\" is a popular dataset used for regression and predictive modeling challenges. It contains detailed information about houses in Ames, Iowa, and aims to predict the sale prices of the homes. The dataset includes 79 explanatory variables that describe various aspects of residential properties"
      ]
    },
    {
      "cell_type": "code",
      "execution_count": null,
      "metadata": {
        "colab": {
          "base_uri": "https://localhost:8080/"
        },
        "collapsed": true,
        "id": "aEiz8OgQGvYV",
        "outputId": "b12befda-b07f-4b08-ade6-e222979fd966"
      },
      "outputs": [
        {
          "output_type": "stream",
          "name": "stdout",
          "text": [
            "Successfully downloaded kaggle-house-price-data-set.csv\n",
            "Data successfully loaded as \"df\"\n"
          ]
        }
      ],
      "source": [
        "import urllib.request\n",
        "import pandas as pd\n",
        "\n",
        "url = 'https://github.com/Jrk373/ODSC_AI_5_Week_Bootcamp/raw/main/kaggle-house-price-data-set.csv'\n",
        "file_path = 'kaggle-house-price-data-set.csv'\n",
        "\n",
        "# Download the file\n",
        "urllib.request.urlretrieve(url, file_path)\n",
        "\n",
        "# Load the dataset\n",
        "df = pd.read_csv(file_path)\n",
        "\n",
        "print('Successfully downloaded kaggle-house-price-data-set.csv')\n",
        "print('Data successfully loaded as data frame \"df\"')\n"
      ]
    },
    {
      "cell_type": "markdown",
      "metadata": {
        "id": "1YMHSdhGE9ff"
      },
      "source": [
        "### Data Dictionary"
      ]
    },
    {
      "cell_type": "markdown",
      "source": [
        "| **Feature**          | **Description**                                                                 |\n",
        "|-----------------------|---------------------------------------------------------------------------------|\n",
        "| 1stFlrSF             | Total area of the first floor of the house                                      |\n",
        "| 2ndFlrSF             | Total area of the second floor of the house                                     |\n",
        "| 3SsnPorch            | Three seasons porch                                                            |\n",
        "| Alley                | Characteristic of the alley                                                    |\n",
        "| BedroomAbvGr         | Number of beds above ground in the house (excluding basement bedrooms)          |\n",
        "| BldgType             | Type of housing                                                                |\n",
        "| BsmtCond             | Classifies the basement's general condition                                     |\n",
        "| BsmtExposure         | Exposition of the basement of the dwelling                                      |\n",
        "| BsmtFinSF1           | Area covered by type 1 finish                                                  |\n",
        "| BsmtFinSF2           | Area covered by type 2 finish                                                  |\n",
        "| BsmtFinType1         | Score of the finish of the basement                                             |\n",
        "| BsmtFinType2         | Score of the finish of the basement - if more than one exists                  |\n",
        "| BsmtFullBath         | Full bathrooms in the basement-related area                                     |\n",
        "| BsmtHalfBath         | Half bathrooms in the basement area                                            |\n",
        "| BsmtQual             | Classifies the house according to the size of the basement                     |\n",
        "| BsmtUnfSF            | Basement area without finishing                                                |\n",
        "| CentralAir           | Defines whether or not there is a central air conditioner (Boolean attribute)   |\n",
        "| Condition1           | Proximity to important points in the city                                      |\n",
        "| Condition2           | Proximity to important points in the city if there are more than one           |\n",
        "| Electrical           | Type of home electrical system                                                 |\n",
        "| EnclosedPorch        | Closed balcony area in the house                                               |\n",
        "| ExterCond            | Condition of the external material on the observation date                     |\n",
        "| Exterior1st          | External coverage of the house                                                 |\n",
        "| Exterior2nd          | External roof of the house - if there is more than one roof                    |\n",
        "| ExterQual            | Quality of the material used abroad                                            |\n",
        "| Fence                | Quality of the enclosure present in the house                                  |\n",
        "| FireplaceQu          | Quality of fireplaces                                                          |\n",
        "| Fireplaces           | Number of fireplaces in the house                                              |\n",
        "| Foundation           | Type of foundation used in construction                                        |\n",
        "| FullBath             | Number of full bathrooms in the house above the basement                      |\n",
        "| Functional           | Describes features of the house under warranty                                 |\n",
        "| GarageArea           | Garage area in square meters                                                  |\n",
        "| GarageCars           | Size of the garage related to the number of possible cars                     |\n",
        "| GarageCond           | Score that defines the conditions of the garage                               |\n",
        "| GarageFinish         | Internal garage finish                                                        |\n",
        "| GarageQual           | Quality of the garage                                                         |\n",
        "| GarageType           | Type of garage in the house                                                   |\n",
        "| GarageYrBlt          | Year of construction of the garage                                             |\n",
        "| GrLivArea            | Total living room area                                                        |\n",
        "| HalfBath             | Number of incomplete bathrooms (half) in the house (above the basement)       |\n",
        "| Heating              | Type of house heating                                                        |\n",
        "| HeatingQC            | Heating quality                                                              |\n",
        "| HouseStyle           | Housing style                                                                |\n",
        "| KitchenAbvGr         | Number of kitchens in the house (above the basement)                         |\n",
        "| KitchenQual          | Quality of the kitchens                                                      |\n",
        "| LandContour          | Housing leveling                                                            |\n",
        "| LandSlope            | Property slope                                                              |\n",
        "| LotArea              | Allotment area                                                              |\n",
        "| LotConfig            | Allotment configuration                                                     |\n",
        "| LotFrontage          | Dimension of the front perimeter of the house                                |\n",
        "| LotShape             | General housing format                                                      |\n",
        "| LowQualFinSF         | Total area of low-quality finishes throughout the house                      |\n",
        "| MasVnrArea           | Area covered by masonry                                                     |\n",
        "| MasVnrType           | Type of masonry used                                                        |\n",
        "| MiscFeature          | Features not included in other categories                                   |\n",
        "| MiscVal              | Value of features not included in quantity criteria                         |\n",
        "| MoSold               | Month in which the sale of the house was made                               |\n",
        "| MSSubClass           | Identifies the type of residence                                             |\n",
        "| MSZoning             | Classifies the property by zone                                             |\n",
        "| Neighborhood         | Locality related to city boundaries                                         |\n",
        "| OpenPorchSF          | Open balcony area in the house                                              |\n",
        "| OverallCond          | Score of the general condition of the house                                 |\n",
        "| OverallQual          | Score of the material and finish of the house                               |\n",
        "| PavedDrive           | Attribute defining street paving                                            |\n",
        "| PoolArea             | Pool area in the house                                                     |\n",
        "| PoolQC               | Quality of the pool                                                        |\n",
        "| RoodMatl             | Material used in the roof                                                  |\n",
        "| RoofStyle            | Type of roof of the house                                                  |\n",
        "| SaleCondition        | Conditions of sale                                                         |\n",
        "| SaleType             | Type of sale                                                              |\n",
        "| ScreenPorch          | Screen area on the balcony of the house                                    |\n",
        "| Street               | Characteristic of the street accessing the house                           |\n",
        "| TotalBsmtSF          | Total basement area                                                       |\n",
        "| TotRmsAbvGrd         | Total number of rooms above the basement                                   |\n",
        "| Utilities            | Utilities                                                                 |\n",
        "| WoodDeckSF           | Wooden deck area in the house                                              |\n",
        "| YearBuilt            | Year of construction of the house                                          |\n",
        "| YearRemodAdd         | Year of remodeling (same as YearBuilt if not remodeled)                   |\n",
        "| YrSold               | Year in which the house was sold                                          |\n",
        "\n",
        "Credit: ODSC West 2024 AI Bootcamp"
      ],
      "metadata": {
        "id": "v9mC8yLKP9Ef"
      }
    },
    {
      "cell_type": "markdown",
      "metadata": {
        "id": "c2CnDwjRO1nk"
      },
      "source": [
        "### Data Shape"
      ]
    },
    {
      "cell_type": "markdown",
      "metadata": {
        "id": "LYEj5WMNAhLv"
      },
      "source": [
        "Assessing the shape of data helps identify its dimensionality (rows and columns), which is crucial for understanding its structure and determining suitable analysis techniques. It ensures the dataset is in the expected format, enabling error detection and proper preprocessing. Additionally, knowing the data shape aids in resource optimization and selecting the right tools for analysis."
      ]
    },
    {
      "cell_type": "code",
      "execution_count": null,
      "metadata": {
        "colab": {
          "base_uri": "https://localhost:8080/"
        },
        "collapsed": true,
        "id": "3oi96O3mNtjE",
        "outputId": "77947a07-27b3-4019-c682-ab6dfb733ff9"
      },
      "outputs": [
        {
          "output_type": "stream",
          "name": "stdout",
          "text": [
            "Data set rows and columns (1460, 81)\n"
          ]
        }
      ],
      "source": [
        "# Import necessary packages\n",
        "import pandas as pd\n",
        "\n",
        "# Check the shape (rows, columns)\n",
        "print('Data set rows and columns:', df.shape)"
      ]
    },
    {
      "cell_type": "code",
      "execution_count": null,
      "metadata": {
        "colab": {
          "base_uri": "https://localhost:8080/"
        },
        "collapsed": true,
        "id": "vfD_c-zZOI3j",
        "outputId": "90384f70-be03-4a77-9306-7e99f284ad06"
      },
      "outputs": [
        {
          "output_type": "stream",
          "name": "stdout",
          "text": [
            "   Id  MSSubClass MSZoning  LotFrontage  LotArea Street Alley LotShape  \\\n",
            "0   1          60       RL         65.0     8450   Pave   NaN      Reg   \n",
            "1   2          20       RL         80.0     9600   Pave   NaN      Reg   \n",
            "2   3          60       RL         68.0    11250   Pave   NaN      IR1   \n",
            "3   4          70       RL         60.0     9550   Pave   NaN      IR1   \n",
            "4   5          60       RL         84.0    14260   Pave   NaN      IR1   \n",
            "\n",
            "  LandContour Utilities  ... PoolArea PoolQC Fence MiscFeature MiscVal MoSold  \\\n",
            "0         Lvl    AllPub  ...        0    NaN   NaN         NaN       0      2   \n",
            "1         Lvl    AllPub  ...        0    NaN   NaN         NaN       0      5   \n",
            "2         Lvl    AllPub  ...        0    NaN   NaN         NaN       0      9   \n",
            "3         Lvl    AllPub  ...        0    NaN   NaN         NaN       0      2   \n",
            "4         Lvl    AllPub  ...        0    NaN   NaN         NaN       0     12   \n",
            "\n",
            "  YrSold  SaleType  SaleCondition  SalePrice  \n",
            "0   2008        WD         Normal     208500  \n",
            "1   2007        WD         Normal     181500  \n",
            "2   2008        WD         Normal     223500  \n",
            "3   2006        WD        Abnorml     140000  \n",
            "4   2008        WD         Normal     250000  \n",
            "\n",
            "[5 rows x 81 columns]\n"
          ]
        }
      ],
      "source": [
        "# Import necessary packages\n",
        "import pandas as pd\n",
        "\n",
        "# Print off the first 5 rows\n",
        "print(df.head(5))"
      ]
    },
    {
      "cell_type": "code",
      "execution_count": null,
      "metadata": {
        "colab": {
          "base_uri": "https://localhost:8080/"
        },
        "collapsed": true,
        "id": "j5DphqfwN7JT",
        "outputId": "27d5b7e1-2f51-4f29-b826-37667dc4a6ba"
      },
      "outputs": [
        {
          "output_type": "stream",
          "name": "stdout",
          "text": [
            "Feature Information:\n",
            "<class 'pandas.core.frame.DataFrame'>\n",
            "RangeIndex: 1460 entries, 0 to 1459\n",
            "Data columns (total 81 columns):\n",
            " #   Column         Non-Null Count  Dtype  \n",
            "---  ------         --------------  -----  \n",
            " 0   Id             1460 non-null   int64  \n",
            " 1   MSSubClass     1460 non-null   int64  \n",
            " 2   MSZoning       1460 non-null   object \n",
            " 3   LotFrontage    1201 non-null   float64\n",
            " 4   LotArea        1460 non-null   int64  \n",
            " 5   Street         1460 non-null   object \n",
            " 6   Alley          91 non-null     object \n",
            " 7   LotShape       1460 non-null   object \n",
            " 8   LandContour    1460 non-null   object \n",
            " 9   Utilities      1460 non-null   object \n",
            " 10  LotConfig      1460 non-null   object \n",
            " 11  LandSlope      1460 non-null   object \n",
            " 12  Neighborhood   1460 non-null   object \n",
            " 13  Condition1     1460 non-null   object \n",
            " 14  Condition2     1460 non-null   object \n",
            " 15  BldgType       1460 non-null   object \n",
            " 16  HouseStyle     1460 non-null   object \n",
            " 17  OverallQual    1460 non-null   int64  \n",
            " 18  OverallCond    1460 non-null   int64  \n",
            " 19  YearBuilt      1460 non-null   int64  \n",
            " 20  YearRemodAdd   1460 non-null   int64  \n",
            " 21  RoofStyle      1460 non-null   object \n",
            " 22  RoofMatl       1460 non-null   object \n",
            " 23  Exterior1st    1460 non-null   object \n",
            " 24  Exterior2nd    1460 non-null   object \n",
            " 25  MasVnrType     588 non-null    object \n",
            " 26  MasVnrArea     1452 non-null   float64\n",
            " 27  ExterQual      1460 non-null   object \n",
            " 28  ExterCond      1460 non-null   object \n",
            " 29  Foundation     1460 non-null   object \n",
            " 30  BsmtQual       1423 non-null   object \n",
            " 31  BsmtCond       1423 non-null   object \n",
            " 32  BsmtExposure   1422 non-null   object \n",
            " 33  BsmtFinType1   1423 non-null   object \n",
            " 34  BsmtFinSF1     1460 non-null   int64  \n",
            " 35  BsmtFinType2   1422 non-null   object \n",
            " 36  BsmtFinSF2     1460 non-null   int64  \n",
            " 37  BsmtUnfSF      1460 non-null   int64  \n",
            " 38  TotalBsmtSF    1460 non-null   int64  \n",
            " 39  Heating        1460 non-null   object \n",
            " 40  HeatingQC      1460 non-null   object \n",
            " 41  CentralAir     1460 non-null   object \n",
            " 42  Electrical     1459 non-null   object \n",
            " 43  FstFlrSF       1460 non-null   int64  \n",
            " 44  SndFlrSF       1460 non-null   int64  \n",
            " 45  LowQualFinSF   1460 non-null   int64  \n",
            " 46  GrLivArea      1460 non-null   int64  \n",
            " 47  BsmtFullBath   1460 non-null   int64  \n",
            " 48  BsmtHalfBath   1460 non-null   int64  \n",
            " 49  FullBath       1460 non-null   int64  \n",
            " 50  HalfBath       1460 non-null   int64  \n",
            " 51  BedroomAbvGr   1460 non-null   int64  \n",
            " 52  KitchenAbvGr   1460 non-null   int64  \n",
            " 53  KitchenQual    1460 non-null   object \n",
            " 54  TotRmsAbvGrd   1460 non-null   int64  \n",
            " 55  Functional     1460 non-null   object \n",
            " 56  Fireplaces     1460 non-null   int64  \n",
            " 57  FireplaceQu    770 non-null    object \n",
            " 58  GarageType     1379 non-null   object \n",
            " 59  GarageYrBlt    1379 non-null   float64\n",
            " 60  GarageFinish   1379 non-null   object \n",
            " 61  GarageCars     1460 non-null   int64  \n",
            " 62  GarageArea     1460 non-null   int64  \n",
            " 63  GarageQual     1379 non-null   object \n",
            " 64  GarageCond     1379 non-null   object \n",
            " 65  PavedDrive     1460 non-null   object \n",
            " 66  WoodDeckSF     1460 non-null   int64  \n",
            " 67  OpenPorchSF    1460 non-null   int64  \n",
            " 68  EnclosedPorch  1460 non-null   int64  \n",
            " 69  TSsnPorch      1460 non-null   int64  \n",
            " 70  ScreenPorch    1460 non-null   int64  \n",
            " 71  PoolArea       1460 non-null   int64  \n",
            " 72  PoolQC         7 non-null      object \n",
            " 73  Fence          281 non-null    object \n",
            " 74  MiscFeature    54 non-null     object \n",
            " 75  MiscVal        1460 non-null   int64  \n",
            " 76  MoSold         1460 non-null   int64  \n",
            " 77  YrSold         1460 non-null   int64  \n",
            " 78  SaleType       1460 non-null   object \n",
            " 79  SaleCondition  1460 non-null   object \n",
            " 80  SalePrice      1460 non-null   int64  \n",
            "dtypes: float64(3), int64(35), object(43)\n",
            "memory usage: 924.0+ KB\n",
            "None\n"
          ]
        }
      ],
      "source": [
        "# Import necessary packages\n",
        "import pandas as pd\n",
        "\n",
        "# Lets get more basic information on columns, datatypes etc using .info()\n",
        "print('Feature Information:')\n",
        "print(df.info())"
      ]
    },
    {
      "cell_type": "markdown",
      "metadata": {
        "id": "eft1tBttOgHA"
      },
      "source": [
        "### Descriptive statistics"
      ]
    },
    {
      "cell_type": "markdown",
      "metadata": {
        "id": "kk0FXV9wPPyv"
      },
      "source": [
        "#### Numerical Data\n",
        "\n",
        "Descriptive Statistics provide for numerical columns in a dataset. It typically includes:\n",
        "\n",
        "- **Count:** The number of non-missing values.\n",
        "- **Mean**: The average value.\n",
        "- **Standard Deviation (std):** A measure of data dispersion or variability.\n",
        "- **Minimum(min):** The smallest value in the dataset.\n",
        "- **25th Percentile (25%):**The first quartile, indicating the value below which 25% of the data lies.\n",
        "- **50th Percentile (50%):**The median, representing the midpoint of the data.\n",
        "- **75th Percentile (75%):**The third quartile, indicating the value below which 75% of the data lies.\n",
        "- **Maximum(max):** The largest value in the dataset."
      ]
    },
    {
      "cell_type": "code",
      "execution_count": null,
      "metadata": {
        "colab": {
          "base_uri": "https://localhost:8080/"
        },
        "collapsed": true,
        "id": "EV8fwa09qApG",
        "outputId": "d10f820c-aa02-44df-e745-c0b276ad941b"
      },
      "outputs": [
        {
          "output_type": "stream",
          "name": "stdout",
          "text": [
            "                Id   MSSubClass  LotFrontage        LotArea  OverallQual  \\\n",
            "count  1460.000000  1460.000000  1201.000000    1460.000000  1460.000000   \n",
            "mean    730.500000    56.897260    70.049958   10516.828082     6.099315   \n",
            "std     421.610009    42.300571    24.284752    9981.264932     1.382997   \n",
            "min       1.000000    20.000000    21.000000    1300.000000     1.000000   \n",
            "25%     365.750000    20.000000    59.000000    7553.500000     5.000000   \n",
            "50%     730.500000    50.000000    69.000000    9478.500000     6.000000   \n",
            "75%    1095.250000    70.000000    80.000000   11601.500000     7.000000   \n",
            "max    1460.000000   190.000000   313.000000  215245.000000    10.000000   \n",
            "\n",
            "       OverallCond    YearBuilt  YearRemodAdd   MasVnrArea   BsmtFinSF1  ...  \\\n",
            "count  1460.000000  1460.000000   1460.000000  1452.000000  1460.000000  ...   \n",
            "mean      5.575342  1971.267808   1984.865753   103.685262   443.639726  ...   \n",
            "std       1.112799    30.202904     20.645407   181.066207   456.098091  ...   \n",
            "min       1.000000  1872.000000   1950.000000     0.000000     0.000000  ...   \n",
            "25%       5.000000  1954.000000   1967.000000     0.000000     0.000000  ...   \n",
            "50%       5.000000  1973.000000   1994.000000     0.000000   383.500000  ...   \n",
            "75%       6.000000  2000.000000   2004.000000   166.000000   712.250000  ...   \n",
            "max       9.000000  2010.000000   2010.000000  1600.000000  5644.000000  ...   \n",
            "\n",
            "        WoodDeckSF  OpenPorchSF  EnclosedPorch    TSsnPorch  ScreenPorch  \\\n",
            "count  1460.000000  1460.000000    1460.000000  1460.000000  1460.000000   \n",
            "mean     94.244521    46.660274      21.954110     3.409589    15.060959   \n",
            "std     125.338794    66.256028      61.119149    29.317331    55.757415   \n",
            "min       0.000000     0.000000       0.000000     0.000000     0.000000   \n",
            "25%       0.000000     0.000000       0.000000     0.000000     0.000000   \n",
            "50%       0.000000    25.000000       0.000000     0.000000     0.000000   \n",
            "75%     168.000000    68.000000       0.000000     0.000000     0.000000   \n",
            "max     857.000000   547.000000     552.000000   508.000000   480.000000   \n",
            "\n",
            "          PoolArea       MiscVal       MoSold       YrSold      SalePrice  \n",
            "count  1460.000000   1460.000000  1460.000000  1460.000000    1460.000000  \n",
            "mean      2.758904     43.489041     6.321918  2007.815753  180921.195890  \n",
            "std      40.177307    496.123024     2.703626     1.328095   79442.502883  \n",
            "min       0.000000      0.000000     1.000000  2006.000000   34900.000000  \n",
            "25%       0.000000      0.000000     5.000000  2007.000000  129975.000000  \n",
            "50%       0.000000      0.000000     6.000000  2008.000000  163000.000000  \n",
            "75%       0.000000      0.000000     8.000000  2009.000000  214000.000000  \n",
            "max     738.000000  15500.000000    12.000000  2010.000000  755000.000000  \n",
            "\n",
            "[8 rows x 38 columns]\n",
            "Feature Stats: GrLivArea\n",
            "count    1460.000000\n",
            "mean     1515.463699\n",
            "std       525.480383\n",
            "min       334.000000\n",
            "25%      1129.500000\n",
            "50%      1464.000000\n",
            "75%      1776.750000\n",
            "max      5642.000000\n",
            "Name: GrLivArea, dtype: float64\n"
          ]
        }
      ],
      "source": [
        "# Import necessary packages\n",
        "import pandas as pd\n",
        "\n",
        "# Get Descriptive statistics for all NUMERICAL columns\n",
        "numerical_stats = df.describe()\n",
        "print(numerical_stats)\n",
        "\n",
        "# Choose a specific feature\n",
        "Feature = 'GrLivArea'\n",
        "\n",
        "# Get Descriptive statistics for specific feature\n",
        "feature_stats = df[Feature].describe()\n",
        "print('Feature Stats:', Feature)\n",
        "print(feature_stats)"
      ]
    },
    {
      "cell_type": "markdown",
      "metadata": {
        "id": "nsqrLt2HPUJg"
      },
      "source": [
        "#### Categorical Data\n",
        "\n",
        "For categorical columns, the describe() method provides the following summary statistics:\n",
        "\n",
        "- **Count:** The total number of non-null (non-NaN) entries in the column.\n",
        "- **Unique:** The number of distinct unique values in the column.\n",
        "- **Top:** The most frequently occurring value in the column (the mode).\n",
        "- **Freq:** The frequency of the most common value (how many times top appears)."
      ]
    },
    {
      "cell_type": "code",
      "execution_count": null,
      "metadata": {
        "colab": {
          "base_uri": "https://localhost:8080/"
        },
        "collapsed": true,
        "id": "pHMNsnI6SKDG",
        "outputId": "7652bc77-821f-43ea-d17e-551078ba6364"
      },
      "outputs": [
        {
          "output_type": "stream",
          "name": "stdout",
          "text": [
            "       MSZoning Street Alley LotShape LandContour Utilities LotConfig LandSlope Neighborhood  \\\n",
            "count      1460   1460    91     1460        1460      1460      1460      1460         1460   \n",
            "unique        5      2     2        4           4         2         5         3           25   \n",
            "top          RL   Pave  Grvl      Reg         Lvl    AllPub    Inside       Gtl        NAmes   \n",
            "freq       1151   1454    50      925        1311      1459      1052      1382          225   \n",
            "\n",
            "       Condition1 Condition2 BldgType HouseStyle RoofStyle RoofMatl Exterior1st Exterior2nd  \\\n",
            "count        1460       1460     1460       1460      1460     1460        1460        1460   \n",
            "unique          9          8        5          8         6        8          15          16   \n",
            "top          Norm       Norm     1Fam     1Story     Gable  CompShg     VinylSd     VinylSd   \n",
            "freq         1260       1445     1220        726      1141     1434         515         504   \n",
            "\n",
            "       MasVnrType ExterQual ExterCond Foundation BsmtQual BsmtCond BsmtExposure BsmtFinType1  \\\n",
            "count         588      1460      1460       1460     1423     1423         1422         1423   \n",
            "unique          3         4         5          6        4        4            4            6   \n",
            "top       BrkFace        TA        TA      PConc       TA       TA           No          Unf   \n",
            "freq          445       906      1282        647      649     1311          953          430   \n",
            "\n",
            "       BsmtFinType2 Heating HeatingQC CentralAir Electrical KitchenQual Functional FireplaceQu  \\\n",
            "count          1422    1460      1460       1460       1459        1460       1460         770   \n",
            "unique            6       6         5          2          5           4          7           5   \n",
            "top             Unf    GasA        Ex          Y      SBrkr          TA        Typ          Gd   \n",
            "freq           1256    1428       741       1365       1334         735       1360         380   \n",
            "\n",
            "       GarageType GarageFinish GarageQual GarageCond PavedDrive PoolQC  Fence MiscFeature  \\\n",
            "count        1379         1379       1379       1379       1460      7    281          54   \n",
            "unique          6            3          5          5          3      3      4           4   \n",
            "top        Attchd          Unf         TA         TA          Y     Gd  MnPrv        Shed   \n",
            "freq          870          605       1311       1326       1340      3    157          49   \n",
            "\n",
            "       SaleType SaleCondition  \n",
            "count      1460          1460  \n",
            "unique        9             6  \n",
            "top          WD        Normal  \n",
            "freq       1267          1198  \n",
            "Feature Stats: GarageQual\n",
            "count     1379\n",
            "unique       5\n",
            "top         TA\n",
            "freq      1311\n",
            "Name: GarageQual, dtype: object\n"
          ]
        }
      ],
      "source": [
        "# Import necessary packages\n",
        "import pandas as pd\n",
        "\n",
        "# Get descriptive statistics for CATEGORICAL columns\n",
        "categorical_stats = df.describe(include=['object'])\n",
        "print(categorical_stats)\n",
        "\n",
        "# Choose a specific feature\n",
        "Feature = 'GarageQual'\n",
        "\n",
        "# Get Descriptive statistics for specific feature\n",
        "feature_stats = df[Feature].describe(include=['object'])\n",
        "print('Feature Stats:', Feature)\n",
        "print(feature_stats)"
      ]
    },
    {
      "cell_type": "markdown",
      "metadata": {
        "id": "a-INK3E1ecVE"
      },
      "source": [
        "### Missing Values\n",
        "\n",
        "Identifying missing values in a dataset is essential to understand their potential impact on the target variable, as missing data can distort relationships and introduce bias. Properly addressing missing values ensures the model accurately captures patterns in the target variable, leading to better performance and more reliable predictions.\n"
      ]
    },
    {
      "cell_type": "code",
      "execution_count": null,
      "metadata": {
        "colab": {
          "base_uri": "https://localhost:8080/"
        },
        "id": "XnHtB2z7Ul2n",
        "outputId": "6e685b6d-7679-48bc-fee3-3ed96f41732d"
      },
      "outputs": [
        {
          "output_type": "stream",
          "name": "stdout",
          "text": [
            "Missing Values:\n",
            "PoolQC          1453\n",
            "MiscFeature     1406\n",
            "Alley           1369\n",
            "Fence           1179\n",
            "MasVnrType       872\n",
            "FireplaceQu      690\n",
            "LotFrontage      259\n",
            "GarageYrBlt       81\n",
            "GarageCond        81\n",
            "GarageType        81\n",
            "GarageFinish      81\n",
            "GarageQual        81\n",
            "BsmtFinType2      38\n",
            "BsmtExposure      38\n",
            "BsmtQual          37\n",
            "BsmtCond          37\n",
            "BsmtFinType1      37\n",
            "MasVnrArea         8\n",
            "Electrical         1\n",
            "dtype: int64\n"
          ]
        }
      ],
      "source": [
        "# Import necessary packages\n",
        "import pandas as pd\n",
        "\n",
        "# Identifying missing values in the dataset\n",
        "missing_values = df.isnull().sum().sort_values(ascending=False)\n",
        "missing_values = missing_values[missing_values > 0]  # Filter out columns with no missing values\n",
        "\n",
        "print('Missing Values:')\n",
        "print(missing_values)"
      ]
    },
    {
      "cell_type": "markdown",
      "metadata": {
        "id": "K2mBgZL74zS5"
      },
      "source": [
        "### Unique Values\n",
        "\n",
        "Identifying unique values helps understand the diversity and distribution of data, which is crucial for feature selection and data preprocessing. It ensures the model captures meaningful patterns and avoids redundant or irrelevant information that could impact performance."
      ]
    },
    {
      "cell_type": "code",
      "execution_count": null,
      "metadata": {
        "colab": {
          "base_uri": "https://localhost:8080/"
        },
        "id": "lTMEmMK04xQd",
        "outputId": "4e447b6b-c265-48aa-e746-03fb85f30d9e"
      },
      "outputs": [
        {
          "output_type": "stream",
          "name": "stdout",
          "text": [
            "Unique Values:\n",
            "Id               1460\n",
            "LotArea          1073\n",
            "GrLivArea         861\n",
            "BsmtUnfSF         780\n",
            "FstFlrSF          753\n",
            "TotalBsmtSF       721\n",
            "SalePrice         663\n",
            "BsmtFinSF1        637\n",
            "GarageArea        441\n",
            "SndFlrSF          417\n",
            "MasVnrArea        327\n",
            "WoodDeckSF        274\n",
            "OpenPorchSF       202\n",
            "BsmtFinSF2        144\n",
            "EnclosedPorch     120\n",
            "YearBuilt         112\n",
            "LotFrontage       110\n",
            "GarageYrBlt        97\n",
            "ScreenPorch        76\n",
            "YearRemodAdd       61\n",
            "Neighborhood       25\n",
            "LowQualFinSF       24\n",
            "MiscVal            21\n",
            "TSsnPorch          20\n",
            "Exterior2nd        16\n",
            "MSSubClass         15\n",
            "Exterior1st        15\n",
            "TotRmsAbvGrd       12\n",
            "MoSold             12\n",
            "OverallQual        10\n",
            "Condition1          9\n",
            "OverallCond         9\n",
            "SaleType            9\n",
            "PoolArea            8\n",
            "RoofMatl            8\n",
            "HouseStyle          8\n",
            "BedroomAbvGr        8\n",
            "Condition2          8\n",
            "Functional          7\n",
            "GarageType          6\n",
            "SaleCondition       6\n",
            "Heating             6\n",
            "BsmtFinType2        6\n",
            "BsmtFinType1        6\n",
            "RoofStyle           6\n",
            "Foundation          6\n",
            "GarageQual          5\n",
            "YrSold              5\n",
            "GarageCars          5\n",
            "GarageCond          5\n",
            "FireplaceQu         5\n",
            "HeatingQC           5\n",
            "LotConfig           5\n",
            "BldgType            5\n",
            "MSZoning            5\n",
            "ExterCond           5\n",
            "Electrical          5\n",
            "KitchenAbvGr        4\n",
            "KitchenQual         4\n",
            "MiscFeature         4\n",
            "Fence               4\n",
            "ExterQual           4\n",
            "BsmtQual            4\n",
            "BsmtCond            4\n",
            "BsmtExposure        4\n",
            "LotShape            4\n",
            "LandContour         4\n",
            "BsmtFullBath        4\n",
            "Fireplaces          4\n",
            "FullBath            4\n",
            "PavedDrive          3\n",
            "GarageFinish        3\n",
            "PoolQC              3\n",
            "BsmtHalfBath        3\n",
            "MasVnrType          3\n",
            "LandSlope           3\n",
            "HalfBath            3\n",
            "Street              2\n",
            "CentralAir          2\n",
            "Utilities           2\n",
            "Alley               2\n",
            "dtype: int64\n"
          ]
        }
      ],
      "source": [
        "# Import necessary packages\n",
        "import pandas as pd\n",
        "\n",
        "# Identifying the number of unique values in each column\n",
        "unique_values = df.nunique().sort_values(ascending=False)\n",
        "\n",
        "# Set the option to display up to 100 rows (or any number you prefer)\n",
        "pd.set_option('display.max_rows', 100)\n",
        "\n",
        "print('Unique Values:')\n",
        "print(unique_values)"
      ]
    },
    {
      "cell_type": "markdown",
      "metadata": {
        "id": "Xt5dBPX90e7P"
      },
      "source": [
        "### Target Feature\n",
        "\n",
        "The **Sale Price** of homes is our Target Feature (Dependent Variable)"
      ]
    },
    {
      "cell_type": "markdown",
      "metadata": {
        "id": "t6UTOvgPrJ7K"
      },
      "source": [
        "#### Descriptive Statistics\n",
        "\n",
        "Descriptive Statistics provide for the Target Feature:\n",
        "\n",
        "- **Count:** The number of non-missing values.\n",
        "- **Mean**: The average value.\n",
        "- **Standard Deviation (std):** A measure of data dispersion or variability.\n",
        "- **Minimum(min):** The smallest value in the dataset.\n",
        "- **25th Percentile (25%):** The first quartile, indicating the value below which 25% of the data lies.\n",
        "- **50th Percentile (50%):** The median, representing the midpoint of the data.\n",
        "- **75th Percentile (75%):** The third quartile, indicating the value below which 75% of the data lies.\n",
        "- **Maximum(max):** The largest value in the dataset."
      ]
    },
    {
      "cell_type": "code",
      "execution_count": null,
      "metadata": {
        "colab": {
          "base_uri": "https://localhost:8080/"
        },
        "id": "B4xN7qdDpMC5",
        "outputId": "7aff01ff-cc0e-49bc-976e-f92d225edb00"
      },
      "outputs": [
        {
          "output_type": "stream",
          "name": "stdout",
          "text": [
            "Summary Statistics: SalePrice\n",
            "count      1460.000000\n",
            "mean     180921.195890\n",
            "std       79442.502883\n",
            "min       34900.000000\n",
            "25%      129975.000000\n",
            "50%      163000.000000\n",
            "75%      214000.000000\n",
            "max      755000.000000\n",
            "Name: SalePrice, dtype: float64\n"
          ]
        }
      ],
      "source": [
        "# Import necessary packages\n",
        "import pandas as pd\n",
        "\n",
        "# Select Target Feature\n",
        "Target = 'SalePrice'\n",
        "\n",
        "# Get summary statistics\n",
        "summary = df[Target].describe()\n",
        "\n",
        "print('Summary Statistics:', Target)\n",
        "print(summary)"
      ]
    },
    {
      "cell_type": "markdown",
      "metadata": {
        "id": "5HlxFxJO0mqD"
      },
      "source": [
        "#### Missing Values\n",
        "\n",
        "Identifying missing values in a dataset is essential to understand their potential impact on the target variable, as missing data can distort relationships and introduce bias. Properly addressing missing values ensures the model accurately captures patterns in the target variable, leading to better performance and more reliable predictions."
      ]
    },
    {
      "cell_type": "code",
      "execution_count": null,
      "metadata": {
        "colab": {
          "base_uri": "https://localhost:8080/"
        },
        "id": "J0Ig58dW0qeo",
        "outputId": "46732c0e-651b-4554-be2c-33fcd68847ef"
      },
      "outputs": [
        {
          "output_type": "stream",
          "name": "stdout",
          "text": [
            "Missing Values - SalePrice : 0\n"
          ]
        }
      ],
      "source": [
        "# Import necessary packages\n",
        "import pandas as pd\n",
        "\n",
        "# Check for missing values\n",
        "missing_values = df[Target].isnull().sum()\n",
        "\n",
        "print('Missing Values -', Target, ':', missing_values)"
      ]
    },
    {
      "cell_type": "markdown",
      "metadata": {
        "id": "5BCURUH71d4G"
      },
      "source": [
        "#### Histogram\n",
        "\n",
        "The plot displays the distribution (histogram) of house sale prices, giving us an idea of the shape, central tendency, and spread of the data."
      ]
    },
    {
      "cell_type": "code",
      "execution_count": null,
      "metadata": {
        "colab": {
          "base_uri": "https://localhost:8080/",
          "height": 410
        },
        "collapsed": true,
        "id": "s7wTOcKRtiv_",
        "outputId": "8085ee13-45d5-4026-9d8e-34d07915a728"
      },
      "outputs": [
        {
          "output_type": "display_data",
          "data": {
            "text/plain": [
              "<Figure size 600x400 with 1 Axes>"
            ],
            "image/png": "[encoded data removed]"
          },
          "metadata": {}
        }
      ],
      "source": [
        "import seaborn as sns\n",
        "import matplotlib.pyplot as plt\n",
        "\n",
        "# Define the variable\n",
        "Target = 'SalePrice'\n",
        "\n",
        "# Create the histogram plot with dark blue color\n",
        "plt.figure(figsize=(6, 4))  # Set the figure size before plotting\n",
        "sns.histplot(df[Target])\n",
        "plt.title(f'Histogram Distribution of {Target}')\n",
        "plt.xlabel(Target)\n",
        "plt.ylabel('Frequency')\n",
        "\n",
        "# Show the plot\n",
        "plt.show()"
      ]
    },
    {
      "cell_type": "markdown",
      "metadata": {
        "id": "RMyNd5-b2Rqj"
      },
      "source": [
        "### Correlation Matrix\n",
        "\n",
        "The **Correlation Matrix** shows which numerical features are most strongly related to the sale price of houses, with the strongest relationships listed first. This helps identify which features are most important for predicting house prices."
      ]
    },
    {
      "cell_type": "code",
      "execution_count": null,
      "metadata": {
        "colab": {
          "base_uri": "https://localhost:8080/"
        },
        "collapsed": true,
        "id": "4fHvcfrm5NnZ",
        "outputId": "2bb61399-7a73-4b86-f91b-63a60325b31f"
      },
      "outputs": [
        {
          "output_type": "stream",
          "name": "stdout",
          "text": [
            "Correlation to Sale Price:\n",
            "SalePrice        1.000000\n",
            "OverallQual      0.790982\n",
            "GrLivArea        0.708624\n",
            "GarageCars       0.640409\n",
            "GarageArea       0.623431\n",
            "TotalBsmtSF      0.613581\n",
            "FstFlrSF         0.605852\n",
            "FullBath         0.560664\n",
            "TotRmsAbvGrd     0.533723\n",
            "YearBuilt        0.522897\n",
            "YearRemodAdd     0.507101\n",
            "GarageYrBlt      0.486362\n",
            "MasVnrArea       0.477493\n",
            "Fireplaces       0.466929\n",
            "BsmtFinSF1       0.386420\n",
            "LotFrontage      0.351799\n",
            "WoodDeckSF       0.324413\n",
            "SndFlrSF         0.319334\n",
            "OpenPorchSF      0.315856\n",
            "HalfBath         0.284108\n",
            "LotArea          0.263843\n",
            "BsmtFullBath     0.227122\n",
            "BsmtUnfSF        0.214479\n",
            "BedroomAbvGr     0.168213\n",
            "ScreenPorch      0.111447\n",
            "PoolArea         0.092404\n",
            "MoSold           0.046432\n",
            "TSsnPorch        0.044584\n",
            "BsmtFinSF2      -0.011378\n",
            "BsmtHalfBath    -0.016844\n",
            "MiscVal         -0.021190\n",
            "Id              -0.021917\n",
            "LowQualFinSF    -0.025606\n",
            "YrSold          -0.028923\n",
            "OverallCond     -0.077856\n",
            "MSSubClass      -0.084284\n",
            "EnclosedPorch   -0.128578\n",
            "KitchenAbvGr    -0.135907\n",
            "Name: SalePrice, dtype: float64\n"
          ]
        }
      ],
      "source": [
        "# Import necessary packages\n",
        "import numpy as np\n",
        "import pandas as pd\n",
        "\n",
        "# Select Target Feature\n",
        "Target = 'SalePrice'\n",
        "\n",
        "# Calculating correlation matrix for numerical features\n",
        "# Select only numerical columns for correlation calculation\n",
        "correlation_matrix = df.select_dtypes(include=np.number).corr()\n",
        "Target_correlation = correlation_matrix[Target].sort_values(ascending=False)\n",
        "\n",
        "print('Correlation to Sale Price:')\n",
        "print(Target_correlation)"
      ]
    },
    {
      "cell_type": "code",
      "execution_count": null,
      "metadata": {
        "colab": {
          "base_uri": "https://localhost:8080/",
          "height": 791
        },
        "id": "sE0SSKKs2WwI",
        "outputId": "c0da3b9d-ab12-4336-ba4c-643d0baeffb3"
      },
      "outputs": [
        {
          "output_type": "display_data",
          "data": {
            "text/plain": [
              "<Figure size 1000x800 with 2 Axes>"
            ],
            "image/png": "[encoded data removed]"
          },
          "metadata": {}
        }
      ],
      "source": [
        "# Import necessary packages\n",
        "import numpy as np\n",
        "import pandas as pd\n",
        "import seaborn as sns\n",
        "import matplotlib.pyplot as plt\n",
        "\n",
        "# Calculate the correlation matrix for numerical features\n",
        "correlation_matrix = df.select_dtypes(include=np.number).corr()\n",
        "\n",
        "# Create a mask for the upper triangle\n",
        "mask = np.triu(np.ones_like(correlation_matrix, dtype=bool))\n",
        "\n",
        "# Set up the matplotlib figure\n",
        "plt.figure(figsize=(10, 8))\n",
        "\n",
        "# Draw the heatmap with the mask, range set from -1 to 1\n",
        "sns.heatmap(\n",
        "    correlation_matrix,\n",
        "    mask=mask,\n",
        "    annot=False,  # Optional: Display correlation values\n",
        "    fmt='.2f',\n",
        "    cmap='coolwarm',\n",
        "    cbar_kws={\"shrink\": 0.8},\n",
        "    vmin=-1,  # Set minimum value to -1\n",
        "    vmax=1    # Set maximum value to 1\n",
        ")\n",
        "\n",
        "# Add title\n",
        "plt.title('Correlation Matrix')\n",
        "\n",
        "# Show plot\n",
        "plt.show()"
      ]
    },
    {
      "cell_type": "markdown",
      "source": [
        "### Strongest Correlations"
      ],
      "metadata": {
        "id": "lFADyVWpOYWb"
      }
    },
    {
      "cell_type": "code",
      "execution_count": null,
      "metadata": {
        "colab": {
          "base_uri": "https://localhost:8080/"
        },
        "id": "SjOEaRnyu_G_",
        "outputId": "a59a8d15-7ec3-464e-9d53-bc585b987a23"
      },
      "outputs": [
        {
          "output_type": "stream",
          "name": "stdout",
          "text": [
            "The numerical features most strongly correlated (r>0.45) with SalePrice\n",
            "- SalePrice: 1.00\n",
            "- OverallQual: 0.79\n",
            "- GrLivArea: 0.71\n",
            "- GarageCars: 0.64\n",
            "- GarageArea: 0.62\n",
            "- TotalBsmtSF: 0.61\n",
            "- FstFlrSF: 0.61\n",
            "- FullBath: 0.56\n",
            "- TotRmsAbvGrd: 0.53\n",
            "- YearBuilt: 0.52\n",
            "- YearRemodAdd: 0.51\n",
            "- GarageYrBlt: 0.49\n",
            "- MasVnrArea: 0.48\n",
            "- Fireplaces: 0.47\n",
            "\n"
          ]
        }
      ],
      "source": [
        "# Import necessary packages\n",
        "import pandas as pd\n",
        "import numpy as np\n",
        "\n",
        "# Automatically updating summary\n",
        "summary = f'The numerical features most strongly correlated (r>0.45) with {Target}\\n'\n",
        "for feature, correlation in Target_correlation.items():\n",
        "    if correlation > 0.45:\n",
        "        summary += f\"- {feature}: {correlation:.2f}\\n\"\n",
        "\n",
        "print(summary)"
      ]
    },
    {
      "cell_type": "markdown",
      "metadata": {
        "id": "H7v_OPeDf0hQ"
      },
      "source": [
        "## Scaling and Normalization\n",
        "In machine learning, the scale of input data can affect how well algorithms perform.\n",
        "\n",
        "Here’s why we scale and normalize features:\n",
        "\n",
        "- **Algorithm Sensitivity:** Some algorithms, like linear regression and SVM, are sensitive to the size of input features.\n",
        "\n",
        "Features with larger ranges can overshadow smaller ones, leading to biased predictions. Scaling ensures all features contribute equally.\n",
        "\n",
        "- **Interpretability:** Normalization can make models easier to understand by putting feature values on a common scale.\n",
        "\n",
        "In real life, we would assess each of the features we intend to use, but we'll just focus on one for this exercise."
      ]
    },
    {
      "cell_type": "markdown",
      "metadata": {
        "id": "y9xONUmMpuFE"
      },
      "source": [
        "### Types of Scaling\n",
        "\n",
        "- **Standard Scaling**: This method adjusts data to have a mean of 0 and a standard deviation of 1. It’s useful when features have different ranges and you want them on the same scale.\n",
        "\n",
        "- **Min-Max Scaling**: This method scales data to a range between 0 and 1. It’s helpful for algorithms like neural networks and k-means clustering, which are sensitive to the magnitude of input data."
      ]
    },
    {
      "cell_type": "markdown",
      "metadata": {
        "id": "79f0CrCTgjpp"
      },
      "source": [
        "#### Original Distribution"
      ]
    },
    {
      "cell_type": "code",
      "execution_count": null,
      "metadata": {
        "colab": {
          "base_uri": "https://localhost:8080/",
          "height": 427
        },
        "id": "LRrjWCUMiXZQ",
        "outputId": "7ebdeba1-ba69-4ab2-b3d6-c61868f6f4a8"
      },
      "outputs": [
        {
          "output_type": "execute_result",
          "data": {
            "text/plain": [
              "Text(0, 0.5, 'Frequency')"
            ]
          },
          "metadata": {},
          "execution_count": 52
        },
        {
          "output_type": "display_data",
          "data": {
            "text/plain": [
              "<Figure size 800x400 with 1 Axes>"
            ],
            "image/png": "[encoded data removed]"
          },
          "metadata": {}
        }
      ],
      "source": [
        "import seaborn as sns\n",
        "import matplotlib.pyplot as plt\n",
        "\n",
        "# Define the variable\n",
        "Feature = 'GrLivArea'\n",
        "\n",
        "# Let's visualize the scaled features\n",
        "plt.figure(figsize=(8, 4))\n",
        "\n",
        "# Create the histogram plot\n",
        "sns.histplot(df[Feature], bins=30, color='#87CEFA', edgecolor='black')\n",
        "plt.title(f'Histogram Distribution of {Feature}')\n",
        "plt.xlabel(Feature)\n",
        "plt.ylabel('Frequency')\n",
        "#plt.figure(figsize=(6, 4))"
      ]
    },
    {
      "cell_type": "markdown",
      "source": [
        "### Why Compare a Distribution, Standard Distribution, and Min-Max Distribution?\n",
        "\n",
        "1. **Understanding Original Data:**\n",
        "   - The original distribution shows the raw data and its inherent properties, such as skewness, central tendency, and spread.\n",
        "   - Comparing it to scaled versions (Standard and Min-Max distributions) helps assess the impact of scaling and whether it preserves key characteristics.\n",
        "\n",
        "2. **Purpose of Standard Scaling:**\n",
        "   - StandardScaler scales the data to have a **mean of 0** and **standard deviation of 1**.\n",
        "   - This is critical for machine learning algorithms (e.g., SVM, logistic regression) that are sensitive to the magnitude of features and require features to be on a similar scale.\n",
        "\n",
        "3. **Purpose of Min-Max Scaling:**\n",
        "   - MinMaxScaler scales the data to fit within a **fixed range (e.g., 0 to 1)**.\n",
        "   - This is useful for algorithms like neural networks or clustering that work better when all features are normalized within a specific range.\n",
        "\n",
        "4. **Insights from Comparison:**\n",
        "   - By comparing the distributions, you can identify if scaling significantly alters the shape of the data, such as whether skewness or outliers are exaggerated or suppressed.\n",
        "   - It ensures that scaling aligns with the requirements of your machine learning models or data analysis techniques.\n",
        "\n",
        "---\n",
        "\n",
        "### Why Look at Distributions with 100 Bins Versus 1000 Bins?\n",
        "\n",
        "1. **100 Bins (Coarse-Grained View):**\n",
        "   - A smaller number of bins provides a **general overview** of the data distribution.\n",
        "   - It is useful for **quick insights** into the general shape, such as whether the data is normal, skewed, or uniform.\n",
        "   - Helps avoid overfitting visual interpretation, especially for small datasets where too many bins might highlight irrelevant noise.\n",
        "\n",
        "2. **1000 Bins (Fine-Grained View):**\n",
        "   - A larger number of bins gives a **detailed view** of the data distribution.\n",
        "   - Useful for **large datasets** or when you need precise insights, such as identifying subtle patterns, outliers, or gaps in the data.\n",
        "   - Can reveal micro-level details that might be obscured with fewer bins.\n",
        "\n",
        "---\n",
        "\n",
        "### Key Use Cases for Both Scaling and Bin Sizes:\n",
        "1. **Standard Scaling and Min-Max Scaling Comparison:**\n",
        "   - Determine which scaling method preserves meaningful data patterns while making the data compatible with algorithms.\n",
        "\n",
        "2. **Using Different Bin Sizes:**\n",
        "   - **100 bins:** A practical default for general visualization.\n",
        "   - **1000 bins:** Critical when analyzing large datasets or identifying small variations.\n",
        "\n",
        "By combining these scaling methods and varying bin sizes, you gain a comprehensive understanding of your data's behavior, ensuring better preprocessing decisions and more effective model performance.\n"
      ],
      "metadata": {
        "id": "X12ct9RLe2AF"
      }
    },
    {
      "cell_type": "markdown",
      "metadata": {
        "id": "WkWcrYaWgkAf"
      },
      "source": [
        "#### Standard Scaling\n",
        "\n",
        "This code standardizes the GrLivArea column and saves the scaled values in a new column. This makes the data easier to work with for certain types of analysis and machine learning.\n",
        "\n",
        "Mathematically, standard scaling transforms the data to have a mean of 0 and a standard deviation of 1."
      ]
    },
    {
      "cell_type": "code",
      "execution_count": null,
      "metadata": {
        "colab": {
          "base_uri": "https://localhost:8080/",
          "height": 407
        },
        "id": "mZZhPl3qilk4",
        "outputId": "551372c9-874b-4e9d-8972-bc318d659e34"
      },
      "outputs": [
        {
          "output_type": "display_data",
          "data": {
            "text/plain": [
              "<Figure size 800x400 with 1 Axes>"
            ],
            "image/png": "[encoded data removed]"
          },
          "metadata": {}
        }
      ],
      "source": [
        "# Import necessary packages\n",
        "import pandas as pd\n",
        "import numpy as np\n",
        "from sklearn.preprocessing import StandardScaler\n",
        "import matplotlib.pyplot as plt\n",
        "\n",
        "# Select Feature\n",
        "Feature = 'GrLivArea'\n",
        "\n",
        "# Feature Scaling using StandardScaler (Mean = 0, Standard Deviation = 1)\n",
        "scaler_standard = StandardScaler()\n",
        "\n",
        "scaled_feature = f'{Feature}_standard_scaled'\n",
        "df[scaled_feature] = scaler_standard.fit_transform(df[[Feature]])\n",
        "\n",
        "# Let's visualize the scaled features\n",
        "plt.figure(figsize=(8, 4))\n",
        "\n",
        "# Standard Scaled Distribution\n",
        "plt.subplot(1, 2, 1)\n",
        "plt.hist(df[scaled_feature], bins=30, color='#90EE90', edgecolor='black')\n",
        "plt.title(f'Distribution of {Feature} (Standard Scaled)', fontsize=15)\n",
        "plt.xlabel(f'Standard Scaled {Feature}', fontsize=12)\n",
        "plt.ylabel('Frequency', fontsize=12)\n",
        "\n",
        "plt.tight_layout()\n",
        "plt.show()"
      ]
    },
    {
      "cell_type": "markdown",
      "metadata": {
        "id": "cQyCksJZgkUg"
      },
      "source": [
        "#### Min / Max Scaler\n",
        "\n",
        "In short, this code scales the GrLivArea column and saves the scaled values in a new column. This makes the data easier to work with for certain types of analysis and machine learning.\n",
        "\n",
        "Mathematically, min/max scaling transforms the data to a specified range, typically between 0 and 1."
      ]
    },
    {
      "cell_type": "code",
      "execution_count": null,
      "metadata": {
        "colab": {
          "base_uri": "https://localhost:8080/",
          "height": 407
        },
        "id": "0tZgq4Zgi7hc",
        "outputId": "c3068bd7-f30e-41fc-d4f3-0e46273ca2e5"
      },
      "outputs": [
        {
          "output_type": "display_data",
          "data": {
            "text/plain": [
              "<Figure size 800x400 with 1 Axes>"
            ],
            "image/png": "[encoded data removed]"
          },
          "metadata": {}
        }
      ],
      "source": [
        "# Import necessary packages\n",
        "import pandas as pd\n",
        "import numpy as np\n",
        "from sklearn.preprocessing import MinMaxScaler\n",
        "import matplotlib.pyplot as plt\n",
        "\n",
        "# Select Feature\n",
        "Feature = 'GrLivArea'\n",
        "\n",
        "# Feature Scaling using MinMaxScaler (Scaled between 0 and 1)\n",
        "scaler_minmax = MinMaxScaler()\n",
        "scaled_feature = f'{Feature}_minmax_scaled'\n",
        "df[scaled_feature] = scaler_minmax.fit_transform(df[[Feature]])\n",
        "\n",
        "# Let's visualize the scaled features\n",
        "plt.figure(figsize=(8, 4))\n",
        "\n",
        "# Min-Max Scaled Distribution\n",
        "plt.subplot(1, 2, 2)\n",
        "plt.hist(df[scaled_feature], bins=30, color='#FF6347', edgecolor='black')\n",
        "plt.title(f'Distribution of {Feature} (Min-Max Scaled)', fontsize=15)\n",
        "plt.xlabel(f'Min-Max Scaled {Feature}', fontsize=12)\n",
        "plt.ylabel('Frequency', fontsize=12)\n",
        "\n",
        "plt.tight_layout()\n",
        "plt.show()"
      ]
    },
    {
      "cell_type": "markdown",
      "source": [
        "#### Compare Distributions"
      ],
      "metadata": {
        "id": "ly_Cd3nmDphM"
      }
    },
    {
      "cell_type": "code",
      "source": [
        "# Import necessary packages\n",
        "import pandas as pd\n",
        "import numpy as np\n",
        "from sklearn.preprocessing import MinMaxScaler, StandardScaler\n",
        "import matplotlib.pyplot as plt\n",
        "import seaborn as sns\n",
        "\n",
        "# Select Feature\n",
        "Feature = 'GrLivArea'\n",
        "\n",
        "# Feature Scaling using StandardScaler (Mean = 0, Standard Deviation = 1)\n",
        "scaler_standard = StandardScaler()\n",
        "df[f'{Feature}_standard_scaled'] = scaler_standard.fit_transform(df[[Feature]])\n",
        "\n",
        "# Feature Scaling using MinMaxScaler (Scaled between 0 and 1)\n",
        "scaler_minmax = MinMaxScaler()\n",
        "df[f'{Feature}_minmax_scaled'] = scaler_minmax.fit_transform(df[[Feature]])\n",
        "\n",
        "# Let's visualize the scaled features\n",
        "plt.figure(figsize=(8, 4))  # Adjusted size to fit 2 rows and 3 columns\n",
        "\n",
        "# Original Distribution (bins = 100)\n",
        "plt.subplot(2, 3, 1)\n",
        "sns.histplot(df[Feature], bins=100, color='#87CEFA', edgecolor=None)\n",
        "plt.title(f'Original Distribution of {Feature}', fontsize=10)\n",
        "plt.xlabel(f'{Feature}, per 100')\n",
        "plt.ylabel('Frequency')\n",
        "\n",
        "# Standard Scaled Distribution (bins = 100)\n",
        "plt.subplot(2, 3, 2)\n",
        "plt.hist(df[f'{Feature}_standard_scaled'], bins=100, color='#90EE90', edgecolor=None)\n",
        "plt.title(f'Standard Scaled {Feature}', fontsize=10)\n",
        "plt.xlabel(f'Standard Scaled {Feature}, per 100')\n",
        "plt.ylabel('Frequency')\n",
        "\n",
        "# Min-Max Scaled Distribution (bins = 100)\n",
        "plt.subplot(2, 3, 3)\n",
        "plt.hist(df[f'{Feature}_minmax_scaled'], bins=100, color='#FF6347', edgecolor=None)\n",
        "plt.title(f'Min-Max Scaled {Feature}', fontsize=10)\n",
        "plt.xlabel(f'Min-Max Scaled {Feature}, per 100')\n",
        "plt.ylabel('Frequency')\n",
        "\n",
        "# Original Distribution (bins = 1000)\n",
        "plt.subplot(2, 3, 4)\n",
        "sns.histplot(df[Feature], bins=1000, color='#87CEFA', edgecolor=None)\n",
        "plt.title(f'Original Distribution of {Feature}', fontsize=10)\n",
        "plt.xlabel(f'{Feature}, per 1000')\n",
        "plt.ylabel('Frequency')\n",
        "\n",
        "# Standard Scaled Distribution (bins = 1000)\n",
        "plt.subplot(2, 3, 5)\n",
        "plt.hist(df[f'{Feature}_standard_scaled'], bins=1000, color='#90EE90', edgecolor=None)\n",
        "plt.title(f'Standard Scaled {Feature}', fontsize=10)\n",
        "plt.xlabel(f'Standard Scaled {Feature}, per 1000')\n",
        "plt.ylabel('Frequency')\n",
        "\n",
        "# Min-Max Scaled Distribution (bins = 1000)\n",
        "plt.subplot(2, 3, 6)\n",
        "plt.hist(df[f'{Feature}_minmax_scaled'], bins=1000, color='#FF6347', edgecolor=None)\n",
        "plt.title(f'Min-Max Scaled {Feature}', fontsize=10)\n",
        "plt.xlabel(f'Min-Max Scaled {Feature}, per 1000')\n",
        "plt.ylabel('Frequency')\n",
        "\n",
        "# Adjust layout and display the plots\n",
        "plt.tight_layout()\n",
        "plt.show()"
      ],
      "metadata": {
        "colab": {
          "base_uri": "https://localhost:8080/",
          "height": 407
        },
        "id": "rgvpOnSWDl4j",
        "outputId": "5f50f157-5e84-49ed-e5cb-ff73a4eda8c3"
      },
      "execution_count": null,
      "outputs": [
        {
          "output_type": "display_data",
          "data": {
            "text/plain": [
              "<Figure size 800x400 with 6 Axes>"
            ],
            "image/png": "[encoded data removed]"
          },
          "metadata": {}
        }
      ]
    },
    {
      "cell_type": "markdown",
      "metadata": {
        "id": "S8vm76CSP0QF"
      },
      "source": [
        "# Stage 3: Data Preparation"
      ]
    },
    {
      "cell_type": "markdown",
      "metadata": {
        "id": "jTSnnaSNQLde"
      },
      "source": [
        "## Handling missing values"
      ]
    },
    {
      "cell_type": "markdown",
      "metadata": {
        "id": "tQcVoQL-d-LZ"
      },
      "source": [
        "Missing categorical values will be replaced by the most often appearing (mode) value for the respective feature.\n",
        "\n",
        "Missing numerical values will be replaced by the average (mean) value for the respective feature."
      ]
    },
    {
      "cell_type": "code",
      "source": [
        "# Import necessary packages\n",
        "import pandas as pd\n",
        "import numpy as np\n",
        "\n",
        "# Select Target Feature\n",
        "Target = 'SalePrice'\n",
        "\n",
        "# Fill missing values\n",
        "for column in df.columns:\n",
        "    if df[column].dtype == 'object':\n",
        "        # Categorical columns: fill with mode\n",
        "        df[column] = df[column].fillna(df[column].mode()[0])\n",
        "    else:\n",
        "        # Numerical columns: fill with mean\n",
        "        df[column] = df[column].fillna(df[column].mean())\n",
        "\n",
        "# Check for missing values in Target Feature\n",
        "missing_target_values = df[Target].isnull().sum()\n",
        "print(f'Missing Values - {Target}: {missing_target_values}')\n",
        "\n",
        "# Check for missing values in the dataset\n",
        "missing_values = df.isnull().sum().sort_values(ascending=False)\n",
        "\n",
        "# If any missing values remain, print them; otherwise, confirm the dataset is clean\n",
        "if missing_values.sum() > 0:\n",
        "    print(\"Missing Values Remaining:\")\n",
        "    print(missing_values[missing_values > 0])\n",
        "else:\n",
        "    print(\"All missing values have been successfully handled.\")"
      ],
      "metadata": {
        "colab": {
          "base_uri": "https://localhost:8080/"
        },
        "id": "RiSyhTLGMvax",
        "outputId": "9b7138c8-4ae3-4228-cfaf-6c6b25b0f0e9"
      },
      "execution_count": null,
      "outputs": [
        {
          "output_type": "stream",
          "name": "stdout",
          "text": [
            "Missing Values - SalePrice: 0\n",
            "All missing values have been successfully handled.\n"
          ]
        }
      ]
    },
    {
      "cell_type": "markdown",
      "metadata": {
        "id": "yboowldeVgWi"
      },
      "source": [
        "## Feature Engineering:\n",
        "Feature engineering involves creating new features or modifying existing ones to improve the performance of machine learning models. Here are some common strategies:"
      ]
    },
    {
      "cell_type": "markdown",
      "metadata": {
        "id": "6B_Li7eBWmjt"
      },
      "source": [
        "#### Add Total Square Feet (TotalSF):\n",
        "\n",
        "Create a Feature called **\"TotalSF\"** which is the sum of the respective square footage measurements of the home.\n",
        "\n",
        "- 1st Floor sq ft + 2nd floor sq ft + Basement sq ft"
      ]
    },
    {
      "cell_type": "code",
      "execution_count": null,
      "metadata": {
        "id": "9lPF7G_GVw7t"
      },
      "outputs": [],
      "source": [
        "house_df['TotalSF'] = house_df['FstFlrSF'] + house_df['SndFlrSF'] + house_df['TotalBsmtSF']\n",
        "\n",
        "# Get summary statistics\n",
        "summary = house_df['TotalSF'].describe()\n",
        "print(\"Summary Statistics for Total Sq Feet:\")\n",
        "print(summary)"
      ]
    },
    {
      "cell_type": "markdown",
      "metadata": {
        "id": "I5xHkdrbWv2g"
      },
      "source": [
        "#### Encoding Categorical Variables"
      ]
    },
    {
      "cell_type": "markdown",
      "metadata": {
        "id": "UN_GMZ-yWwB6"
      },
      "source": [
        "##### One-hot Encoding (Making Dummy Variables)\n",
        "\n",
        "One-hot encoding is used in machine learning to convert categorical (non-numerical) data variables into numerical format. Most machine learning models require numerical input data as this encoding helps the algorithms understand and process the data\n",
        "\n",
        "![One Hot Encoding](https://github.com/Jrk373/ODSC_AI_5_Week_Bootcamp/blob/main/OneHotDiagram.jpg?raw=true)\n",
        "\n",
        "Let's review the data so far."
      ]
    },
    {
      "cell_type": "markdown",
      "metadata": {
        "id": "-EmOfJ5hYLOw"
      },
      "source": []
    },
    {
      "cell_type": "code",
      "execution_count": null,
      "metadata": {
        "id": "HtNRi3dcXKhh"
      },
      "outputs": [],
      "source": [
        "# Identify categorical columns - assuming they are of type 'object'\n",
        "categorical_columns = house_df.select_dtypes(include=['object']).columns\n",
        "\n",
        "## Print the shape to see how many new columns we have before updating\n",
        "print(f\"Shape before encoding: {house_df.shape}\")\n",
        "\n",
        "# Print unique values for each categorical column before encoding\n",
        "print(\"Unique values in categorical columns before one-hot encoding:\")\n",
        "for column in categorical_columns:\n",
        "    print(f\"{column}: {house_df[column].unique()}\")"
      ]
    },
    {
      "cell_type": "code",
      "execution_count": null,
      "metadata": {
        "id": "GYlrzy5rY_9A"
      },
      "outputs": [],
      "source": [
        "# Apply one-hot encoding to all categorical variables\n",
        "house_df_encoded = pd.get_dummies(house_df)"
      ]
    },
    {
      "cell_type": "code",
      "execution_count": null,
      "metadata": {
        "collapsed": true,
        "id": "1tqfLu2lZPFw"
      },
      "outputs": [],
      "source": [
        "## Print the shape to see how many new columns were added\n",
        "print(f\"Shape after encoding: {house_df_encoded.shape}\")\n",
        "\n",
        "# Identify new one-hot encoded columns\n",
        "new_columns = [col for col in house_df_encoded.columns if col not in house_df.columns]\n",
        "\n",
        "# Print unique values in the new one-hot encoded columns (they should only be 0 or 1)\n",
        "print(\"\\nUnique values in one-hot encoded columns:\")\n",
        "for column in new_columns:\n",
        "    print(f\"{column}: {house_df_encoded[column].unique()}\")"
      ]
    },
    {
      "cell_type": "markdown",
      "metadata": {
        "id": "kf-d_zOEcnrI"
      },
      "source": [
        "## Feature Transformation\n",
        "\n",
        "Feature transformation in machine learning involves modifying or converting input data features to improve model performance or interpretability. This includes scaling, encoding, or creating new features to better represent underlying patterns, align with algorithm requirements, or enhance predictive accuracy.\n",
        "\n",
        "\n"
      ]
    },
    {
      "cell_type": "markdown",
      "metadata": {
        "id": "oSe0Zhdzw-kS"
      },
      "source": [
        "### Correct skewness\n",
        "\n",
        "Correcting skewness in machine learning ensures that features are more evenly distributed, which can improve the performance and stability of models sensitive to data distributions, such as linear regression or neural networks. It helps algorithms converge more effectively, reduces bias, and ensures the model captures patterns more accurately, particularly when extreme values distort relationships with the target variable."
      ]
    },
    {
      "cell_type": "markdown",
      "metadata": {
        "id": "U1bqhgf6vI_u"
      },
      "source": [
        "\n",
        "\n",
        "**Logorythmic Transformation**\n",
        "\n",
        "The logarithm of a number ( x ) to a given base ( b ) is the power to which the base must be raised to produce ( x ).\n",
        "\n",
        "Mathematically, if ( y = \\log_b(x) ), then ( b^y = x ).\n",
        "\n",
        "*The log transformation primarily targets right-skewed distributions. By applying it to such data, the transformation compresses the long tail and expands the values closer to zero, making the distribution more symmetric and less skewed.*\n",
        "\n",
        "When you apply a log transformation to a right-skewed distribution, you're essentially taking the logarithm of each data point. Mathematically, if you have a data point ( x ), the log transformation is ( \\log(x) ). Here's what happens:\n",
        "\n",
        "- **Compression of the Long Tail**: In a right-skewed distribution, there are a few very large values that stretch out the tail to the right. The log transformation compresses these large values because the logarithm of a large number is much smaller than the number itself. For example, ( \\log(1000) = 3 ), which is much smaller than 1000.\n",
        "\n",
        "- **Expansion of Values Closer to Zero:** For values that are closer to zero but still positive, the log transformation expands them. This is because the logarithm of a number between 0 and 1 is negative and decreases more slowly. For example, ( \\log(0.1) = -1 ), which is a larger change compared to the original value.\n",
        "\n",
        "- **Symmetrization of the Distribution:** By compressing the long tail and expanding the smaller values, the log transformation makes the distribution more symmetric. This reduces the skewness and makes the data more normally distributed, which is often a desirable property for statistical analysis.\n",
        "\n",
        "Overall, the log transformation helps in stabilizing the variance and making the data more suitable for various statistical techniques. If you have any more questions or need further clarification, feel free to ask!"
      ]
    },
    {
      "cell_type": "code",
      "execution_count": null,
      "metadata": {
        "id": "pf5cdt1cwMVH"
      },
      "outputs": [],
      "source": [
        "import numpy as np\n",
        "import matplotlib.pyplot as plt\n",
        "import seaborn as sns\n",
        "\n",
        "# np.log() is good for long right tail (left skewed)\n",
        "\n",
        "# Assuming house_df['TotalSF'] exists, apply the transformation:\n",
        "house_df_encoded['LogTotalSF'] = np.log(house_df['TotalSF'] + 1)\n",
        "\n",
        "# Creating the plots\n",
        "fig, ax = plt.subplots(1, 2, figsize=(8, 4))\n",
        "\n",
        "# Original Data Plot\n",
        "sns.histplot(house_df['TotalSF'], kde=True, ax=ax[0], color='blue')\n",
        "ax[0].set_title('Original TotalSF Distribution')\n",
        "ax[0].set_xlabel('TotalSF')\n",
        "ax[0].set_ylabel('Frequency')\n",
        "\n",
        "# Transformed Data Plot\n",
        "sns.histplot(house_df_encoded['LogTotalSF'], kde=True, ax=ax[1], color='green')\n",
        "ax[1].set_title('Log Transformed TotalSF Distribution')\n",
        "ax[1].set_xlabel('LogTotalSF')\n",
        "ax[1].set_ylabel('Frequency')\n",
        "\n",
        "plt.tight_layout()\n",
        "plt.show()"
      ]
    },
    {
      "cell_type": "markdown",
      "metadata": {
        "id": "Xgd91tE_xerz"
      },
      "source": [
        "### Remove unneccessary features\n",
        "\n",
        "Removing unnecessary features in machine learning simplifies the model, reducing the risk of overfitting and improving generalization to unseen data. It enhances computational efficiency, eliminates irrelevant or redundant information, and ensures the model focuses only on the most predictive features, leading to better performance and interpretability."
      ]
    },
    {
      "cell_type": "markdown",
      "metadata": {
        "id": "z1yVhYLqya6N"
      },
      "source": [
        "Drop Case ID"
      ]
    },
    {
      "cell_type": "code",
      "execution_count": null,
      "metadata": {
        "id": "SDasCrJJyMLZ"
      },
      "outputs": [],
      "source": [
        "# Drop ID column/feature\n",
        "house_df_encoded.drop('Id', axis=1, inplace=True)\n",
        "\n",
        "print(\"Id removed\")"
      ]
    },
    {
      "cell_type": "markdown",
      "metadata": {
        "id": "K9mdasZyxeyM"
      },
      "source": [
        "## Feature Selection\n",
        "\n",
        "Feature selection in machine learning is the process of identifying and retaining the most relevant features in a dataset to improve model performance, reduce complexity, and enhance interpretability."
      ]
    },
    {
      "cell_type": "markdown",
      "metadata": {
        "id": "KBbcTMozzfcz"
      },
      "source": [
        "#### Updated Correlation Matrix\n",
        "\n",
        "Update the Correlation Matrix to reflect the performance of transformed and selected features."
      ]
    },
    {
      "cell_type": "code",
      "execution_count": null,
      "metadata": {
        "id": "3KSr0TRE4KXg"
      },
      "outputs": [],
      "source": [
        "import seaborn as sns\n",
        "import matplotlib.pyplot as plt\n",
        "import numpy as np\n",
        "\n",
        "# Assuming 'house_df_encoded' is your DataFrame\n",
        "corr_matrix = house_df_encoded.corr().abs()\n",
        "\n",
        "# Get the correlation of all features with 'SalePrice', excluding the target itself\n",
        "saleprice_corr = corr_matrix['SalePrice'].drop('SalePrice')\n",
        "\n",
        "# Define a threshold for selecting features, e.g., 0.5\n",
        "threshold = 0.5\n",
        "\n",
        "# Find features with correlation to 'SalePrice' greater than the threshold\n",
        "selected_features = saleprice_corr[saleprice_corr > threshold].index.tolist()\n",
        "\n",
        "# Filter and sort the correlations of the selected features in descending order\n",
        "selected_saleprice_corr = saleprice_corr[selected_features].sort_values(ascending=False)\n",
        "\n",
        "print(\"Correlation to Sale Price (r**2 > 0.5):\")\n",
        "print(selected_saleprice_corr)"
      ]
    },
    {
      "cell_type": "code",
      "execution_count": null,
      "metadata": {
        "id": "Q4rP1Pb64pQr"
      },
      "outputs": [],
      "source": [
        "# Create a correlation matrix for the selected features\n",
        "selected_corr_matrix = corr_matrix.loc[selected_features, selected_features]\n",
        "\n",
        "# Create a mask for the upper triangle\n",
        "mask = np.triu(np.ones_like(selected_corr_matrix, dtype=bool))\n",
        "\n",
        "# Set up the matplotlib figure\n",
        "f, ax = plt.subplots(figsize=(10, 4))\n",
        "\n",
        "# Generate a custom diverging colormap\n",
        "cmap = sns.diverging_palette(230, 20, as_cmap=True)\n",
        "\n",
        "# Draw the heatmap with the mask and correct aspect ratio\n",
        "sns.heatmap(selected_corr_matrix, mask=mask, cmap=cmap, vmax=1, center=0,\n",
        "            square=True, linewidths=.5, cbar_kws={\"shrink\": .5})\n",
        "\n",
        "# Add a title\n",
        "plt.title(\"Correlation Matrix for Selected Features\", fontsize=16)\n",
        "\n",
        "# Show the plot\n",
        "plt.show()"
      ]
    },
    {
      "cell_type": "markdown",
      "metadata": {
        "id": "4EQp_v125eBo"
      },
      "source": [
        "#### **Wrapper Method: Recursive Feature Elimination**\n",
        "\n",
        "We couse use an algorithms like recursive feature elimination that consider the performance of a model to identify the best features.\n",
        "\n",
        "Recursive Feature Elimination (RFE) is a feature selection method that fits a model and removes the weakest features until the specified number of features is reached. In scikit-learn, you can use RFE with various estimators (like linear regression, support vector machines, etc.) to identify the best features based on the model performance.\n",
        "\n",
        "*To run this section correctly, clear all your notebook output and **SKIP  Threshold Correlation** code section*"
      ]
    },
    {
      "cell_type": "code",
      "execution_count": null,
      "metadata": {
        "id": "N3Pd3n3J52GT"
      },
      "outputs": [],
      "source": [
        "from sklearn.feature_selection import RFE\n",
        "from sklearn.linear_model import LinearRegression\n",
        "\n",
        "# Assuming house_df_reduced has the features and target variable and is preprocessed.\n",
        "\n",
        "# Define your target variable and predictors\n",
        "X = house_df_encoded.drop('SalePrice', axis=1)\n",
        "y = house_df_encoded['SalePrice']\n",
        "\n",
        "# Create a linear regression model\n",
        "model = LinearRegression()\n",
        "\n",
        "# Create the RFE model and select, e.g., 20 features\n",
        "rfe = RFE(model, n_features_to_select=20)\n",
        "\n",
        "# Fit the model\n",
        "fit = rfe.fit(X, y)\n",
        "\n",
        "# Print the selected features\n",
        "selected_features = X.columns[fit.support_]\n",
        "print('Selected features:', selected_features)\n"
      ]
    },
    {
      "cell_type": "markdown",
      "metadata": {
        "id": "kMV5YwNS6QVM"
      },
      "source": [
        "# Stage 4: Data Model Training\n",
        "\n",
        "The data modeling phase of CRISP-DM involves selecting and applying various modeling techniques to the prepared data. During this phase, data scientists choose appropriate algorithms and build models to uncover patterns and relationships within the data. They generate test designs, build multiple models, and assess their performance to determine the best approach.\n",
        "\n",
        "This phase is iterative, meaning that adjustments and refinements are made based on the results obtained, ensuring that the models align with the business objectives and provide valuable insights.\n",
        "\n"
      ]
    },
    {
      "cell_type": "markdown",
      "metadata": {
        "id": "QbO6B1WwyZ_o"
      },
      "source": [
        "## Train Test Split\n",
        "\n",
        "The train-test split is a common technique used in machine learning to evaluate the performance of a model. This helps to ensure that the model generalizes well to new data and avoids overfitting.\n",
        "\n",
        "- The **Train** set is used to train the model when the Target Feature value is known, while the **Test** set is used to evaluate its performance on unseen data.\n",
        "\n",
        "- Typically, the data is split in a ratio such as 80:20 or 70:30, where the larger portion is used for training and the smaller portion for testing"
      ]
    },
    {
      "cell_type": "code",
      "execution_count": null,
      "metadata": {
        "id": "OnW-DdlVzKQM"
      },
      "outputs": [],
      "source": [
        "from sklearn.model_selection import train_test_split\n",
        "from sklearn.linear_model import LinearRegression\n",
        "from sklearn.metrics import mean_squared_error\n",
        "from sklearn.metrics import mean_squared_error, r2_score\n",
        "\n",
        "\n",
        "# Selecting data for the features chosen by RFE and the target variable\n",
        "# We have feature matrix, X_selected, and target y\n",
        "X_selected = house_df_encoded[selected_features]\n",
        "y = house_df_encoded['SalePrice']\n",
        "\n",
        "# Splitting data into training and testing sets\n",
        "X_train, X_test, y_train, y_test = train_test_split(X_selected, y, test_size=0.2, random_state=42)"
      ]
    },
    {
      "cell_type": "markdown",
      "metadata": {
        "id": "7IL4ADL21cAT"
      },
      "source": [
        "## Linear Regression Model Fit\n",
        "\n",
        "The Linear Regression Model is a statistical method used to predict the value of a target variable based on one or more input features. By fitting this model to (mapping a regression line according to) the training data, it allows the model to learn the underlying relationship between the selected features and the target variable 'SalePrice'.\n",
        "\n",
        "This process involves finding the best-fit line that minimizes the difference between the actual and predicted values of 'SalePrice', enabling the model to make accurate predictions on new, unseen data."
      ]
    },
    {
      "cell_type": "code",
      "execution_count": null,
      "metadata": {
        "id": "rTdHRFxv1amI"
      },
      "outputs": [],
      "source": [
        "# Creating a linear regression model\n",
        "model = LinearRegression()\n",
        "\n",
        "# Fitting the model with the training data\n",
        "model.fit(X_train, y_train)"
      ]
    },
    {
      "cell_type": "markdown",
      "metadata": {
        "id": "pKNPa-d4ylb1"
      },
      "source": [
        "# Stage 5: Evaluation\n",
        "\n",
        "The evaluation phase of CRISP-DM focuses on assessing the model to ensure it meets the business objectives. During this phase, data scientists review the steps taken to build the model and evaluate its performance using various metrics. They determine if the model is accurate and reliable, and if it aligns with the initial goals of the project.\n",
        "\n",
        "This phase also involves identifying any deficiencies in the model and considering potential improvements.\n",
        "\n",
        "## Cost Function\n",
        "\n",
        "A cost function, also known as a loss function, is a crucial concept in machine learning that measures how well a model's predictions match the actual data. It calculates the difference between the predicted values and the actual values, representing this difference as a single real number. The primary goal of a machine learning model is to minimize this cost function, thereby improving the accuracy of the model's predictions.\n",
        "\n",
        "In essence, the cost function helps determine how \"wrong\" the model is in estimating the relationship between the input features (X) and the target variable (Y).\n",
        "\n",
        "By iteratively adjusting the model's parameters to minimize the cost function, the model can better capture the underlying patterns in the data, leading to more accurate predictions.\n",
        "\n",
        "https://www.javatpoint.com/cost-function-in-machine-learning"
      ]
    },
    {
      "cell_type": "markdown",
      "metadata": {
        "id": "q1CmOXbX4yuB"
      },
      "source": [
        "## Prediction Performance\n",
        "\n",
        "Evaluate the performance of a trained model by making predictions on the testing set (X_test) and comparing them to the actual values (y_test).\n",
        "\n",
        "- Calculate the Mean Squared Error (MSE) to measure the average squared difference between the predicted and actual values\n",
        "- Calculate the Root Mean Squared Error (RMSE) to provide a more interpretable measure of the prediction errors.\n",
        "- Compute the R-squared score (r2), which indicates how well the model explains the variance in the target variable.\n",
        "\n",
        "Use Linear Regression Model to predict the sales price for any house. Input one record. Based on the values in the selected features of each record, the LRM predicts a sale price. We measure the error between what the model predicted the test value would be, and what it actually was.\n",
        "\n",
        "The results tell us the predictive capability of our model."
      ]
    },
    {
      "cell_type": "code",
      "execution_count": null,
      "metadata": {
        "id": "DPOtJspg3yI_"
      },
      "outputs": [],
      "source": [
        "from sklearn.metrics import mean_squared_error, r2_score\n",
        "\n",
        "# Making predictions on the testing set\n",
        "y_pred = model.predict(X_test)\n",
        "\n",
        "# Calculate Mean Squared Error (MSE)\n",
        "mse = mean_squared_error(y_test, y_pred)\n",
        "\n",
        "# Calculate Root Mean Squared Error (RMSE)\n",
        "rmse = mse ** 0.5\n",
        "\n",
        "# Calculate R-squared score\n",
        "r2 = r2_score(y_test, y_pred)\n",
        "\n",
        "print('Linear Regression Model Performance:')\n",
        "print(f'Root Mean Squared Error: {rmse}')\n",
        "print(f'R-squared score: {r2}')\n",
        "#print(\"Test set predicted values \\n\", y_pred, \"\\n\")"
      ]
    },
    {
      "cell_type": "markdown",
      "metadata": {
        "id": "c3ohFcnU8_2_"
      },
      "source": [
        "## Actual vs. Predicted Values Scatter Plot:\n",
        "\n",
        "This plot helps visualize the correlation between the actual and predicted values. A perfect model would result in a straight diagonal line (where actual equals predicted)."
      ]
    },
    {
      "cell_type": "code",
      "execution_count": null,
      "metadata": {
        "id": "Jvs6ZYSw9NNK"
      },
      "outputs": [],
      "source": [
        "import matplotlib.pyplot as plt\n",
        "\n",
        "plt.figure(figsize=(6, 6))\n",
        "plt.scatter(y_test, y_pred, alpha=0.5)\n",
        "plt.title('Actual vs. Predicted Values')\n",
        "plt.xlabel('Actual SalePrice')\n",
        "plt.ylabel('Predicted SalePrice')\n",
        "plt.plot([min(y_test), max(y_test)], [min(y_test), max(y_test)], 'k--', lw=4)\n",
        "plt.show()"
      ]
    },
    {
      "cell_type": "markdown",
      "metadata": {
        "id": "FkpTZ_CWcc-L"
      },
      "source": [
        "##Cross-Validation\n",
        "\n",
        "Instead of training and testing the model on just one split of the data, cross-validation divides the dataset into multiple parts called Folds and trains/tests the model on different portions of the data.\n",
        "\n",
        "\n"
      ]
    },
    {
      "cell_type": "markdown",
      "metadata": {
        "id": "T9K_79kdHAvF"
      },
      "source": [
        "## Model Re-Training: Polynomial Regression\n",
        "\n",
        "Linear regression models the relationship between variables with a straight line, making it simple and efficient for linear relationships. However, it can't capture non-linear patterns.\n",
        "\n",
        "Polynomial regression, on the other hand, fits a curved line to the data, allowing it to model non-linear relationships.\n",
        "\n",
        "While more flexible, polynomial regression is also more complex and prone to overfitting, especially with high-degree polynomials."
      ]
    },
    {
      "cell_type": "code",
      "execution_count": null,
      "metadata": {
        "id": "0xVKQ8E6ViBr"
      },
      "outputs": [],
      "source": [
        "# Import necessary libraries\n",
        "import numpy as np\n",
        "from sklearn.model_selection import cross_val_score, KFold\n",
        "from sklearn.linear_model import LinearRegression\n",
        "from sklearn.preprocessing import PolynomialFeatures\n",
        "from sklearn.metrics import mean_squared_error, r2_score\n",
        "import matplotlib.pyplot as plt\n",
        "\n",
        "Feature = 'GrLivArea'\n",
        "Target = 'SalePrice'\n",
        "\n",
        "# Define the feature and target\n",
        "X = house_df_encoded[[Feature]]  # Feature\n",
        "y = house_df_encoded[Target]    # Target\n",
        "\n",
        "# Determine the number of folds for cross-validation\n",
        "n_folds = 10\n",
        "\n",
        "# Initialize the linear regression model\n",
        "linear_model = LinearRegression()\n",
        "\n",
        "# Define the k-fold cross-validation\n",
        "kf = KFold(n_splits=n_folds, shuffle=True, random_state=42)\n",
        "\n",
        "# Perform cross-validation and calculate the Mean Squared Error (MSE) for linear regression\n",
        "linear_mse_scores = cross_val_score(linear_model, X, y, cv=kf, scoring='neg_mean_squared_error')\n",
        "linear_mse_scores = -linear_mse_scores  # Convert negative MSE to positive\n",
        "mean_linear_mse = np.mean(linear_mse_scores)\n",
        "std_linear_mse = np.std(linear_mse_scores)\n",
        "\n",
        "# Fit the linear regression model on the entire dataset\n",
        "linear_model.fit(X, y)\n",
        "\n",
        "# Make predictions with linear regression\n",
        "y_pred_linear = linear_model.predict(X)\n",
        "\n",
        "# Evaluate the performance of the linear regression model\n",
        "linear_r2 = r2_score(y, y_pred_linear)\n",
        "\n",
        "# Create polynomial features (degree 3 for cubic)\n",
        "poly = PolynomialFeatures(degree=3)\n",
        "X_poly = poly.fit_transform(X)\n",
        "\n",
        "# Fit linear regression model on the polynomial features\n",
        "poly_model = LinearRegression()\n",
        "poly_model.fit(X_poly, y)\n",
        "\n",
        "# Make predictions with polynomial regression\n",
        "y_pred_poly = poly_model.predict(X_poly)\n",
        "\n",
        "# Evaluate the performance of the polynomial regression model\n",
        "poly_mse = mean_squared_error(y, y_pred_poly)\n",
        "poly_r2 = r2_score(y, y_pred_poly)\n",
        "\n",
        "# Visualize the original data and the polynomial fit\n",
        "plt.figure(figsize=(6, 4))\n",
        "plt.scatter(X, y, color='blue', alpha=0.5, label='Original Data')\n",
        "plt.plot(X, y_pred_linear, color='green', linewidth=2, label='Linear Fit')\n",
        "plt.plot(X, poly_model.predict(X_poly), color='red', linewidth=2, label='Polynomial Fit')\n",
        "plt.title('Regression Model Comparison')\n",
        "plt.xlabel('GrLivArea')\n",
        "plt.ylabel('SalePrice')\n",
        "plt.legend()\n",
        "\n",
        "# Add R^2 value label to the plot in a box oriented to the right\n",
        "textstr = f'Linear R^2: {linear_r2:.2f}\\nPolynomial R^2: {poly_r2:.2f}'\n",
        "props = dict(boxstyle='round', facecolor='wheat', alpha=0.5)\n",
        "plt.text(0.95, 0.05, textstr, transform=plt.gca().transAxes, fontsize=10,\n",
        "         verticalalignment='bottom', horizontalalignment='right', bbox=props)\n",
        "\n",
        "plt.show()\n",
        "\n",
        "# Print the results\n",
        "print(\"Linear Regression Results:\")\n",
        "print(f\"- Linear Regression Mean MSE: {mean_linear_mse:.2f}\")\n",
        "print(f\"- Linear Regression R^2 Score: {linear_r2:.2f}\")\n",
        "\n",
        "print(\"Polynomial Regression Results:\")\n",
        "print(f\"- Polynomial Regression Mean MSE: {poly_mse:.2f}\")\n",
        "print(f\"- Polynomial Regression R^2 Score: {poly_r2:.2f}\")\n",
        "\n",
        "# Recommendation based on MSE comparison\n",
        "if poly_mse < mean_linear_mse:\n",
        "    print(\"Recommendations:\")\n",
        "    print(\"The polynomial regression model performs better than the linear regression model.\")\n",
        "    print(f\"- Detailed Statistics for Polynomial Regression Model:\")\n",
        "    print(f\"- Mean Squared Error (MSE): {poly_mse:.2f}\")\n",
        "    print(f\"- R^2 Score: {poly_r2:.2f}\")\n",
        "else:\n",
        "    print(\"Recommendations:\")\n",
        "    print(\"The linear regression model performs better than the polynomial regression model.\")\n",
        "    print(f\"Detailed Statistics for Linear Regression Model:\")\n",
        "    print(f\"- Mean Squared Error (MSE): {mean_linear_mse:.2f}\")\n",
        "    print(f\"- R^2 Score: {linear_r2:.2f}\")"
      ]
    },
    {
      "cell_type": "markdown",
      "metadata": {
        "id": "C42cycxOhkaa"
      },
      "source": [
        "## Further Analysis: What If?"
      ]
    },
    {
      "cell_type": "markdown",
      "metadata": {
        "id": "KyDxpup1h1cO"
      },
      "source": [
        "### Create a cap for GrLvngArea"
      ]
    },
    {
      "cell_type": "code",
      "execution_count": null,
      "metadata": {
        "id": "ns5YXsTaj9v0"
      },
      "outputs": [],
      "source": [
        "Cap = 5000"
      ]
    },
    {
      "cell_type": "code",
      "execution_count": null,
      "metadata": {
        "id": "YRqYU4nsiiFh"
      },
      "outputs": [],
      "source": [
        "# Import necessary libraries\n",
        "import numpy as np\n",
        "from sklearn.model_selection import cross_val_score, KFold\n",
        "from sklearn.linear_model import LinearRegression\n",
        "from sklearn.preprocessing import PolynomialFeatures\n",
        "from sklearn.metrics import mean_squared_error, r2_score\n",
        "import matplotlib.pyplot as plt\n",
        "\n",
        "Feature = 'GrLivArea'\n",
        "Target = 'SalePrice'\n",
        "\n",
        "# Filter the dataset to include only cases with GrLivArea < Cap\n",
        "filtered_df = house_df_encoded[house_df_encoded[Feature] < Cap]\n",
        "\n",
        "# Define the feature and target\n",
        "X = filtered_df[[Feature]]  # Feature\n",
        "y = filtered_df[Target]    # Target\n",
        "\n",
        "# Determine the number of folds for cross-validation\n",
        "n_folds = 10\n",
        "\n",
        "# Initialize the linear regression model\n",
        "linear_model = LinearRegression()\n",
        "\n",
        "# Define the k-fold cross-validation\n",
        "kf = KFold(n_splits=n_folds, shuffle=True, random_state=42)\n",
        "\n",
        "# Perform cross-validation and calculate the Mean Squared Error (MSE) for linear regression\n",
        "linear_mse_scores = cross_val_score(linear_model, X, y, cv=kf, scoring='neg_mean_squared_error')\n",
        "linear_mse_scores = -linear_mse_scores  # Convert negative MSE to positive\n",
        "mean_linear_mse = np.mean(linear_mse_scores)\n",
        "std_linear_mse = np.std(linear_mse_scores)\n",
        "\n",
        "# Fit the linear regression model on the entire dataset\n",
        "linear_model.fit(X, y)\n",
        "\n",
        "# Make predictions with linear regression\n",
        "y_pred_linear = linear_model.predict(X)\n",
        "\n",
        "# Evaluate the performance of the linear regression model\n",
        "linear_r2 = r2_score(y, y_pred_linear)\n",
        "\n",
        "# Create polynomial features (degree 3 for cubic)\n",
        "poly = PolynomialFeatures(degree=3)\n",
        "X_poly = poly.fit_transform(X)\n",
        "\n",
        "# Fit linear regression model on the polynomial features\n",
        "poly_model = LinearRegression()\n",
        "poly_model.fit(X_poly, y)\n",
        "\n",
        "# Make predictions with polynomial regression\n",
        "y_pred_poly = poly_model.predict(X_poly)\n",
        "\n",
        "# Evaluate the performance of the polynomial regression model\n",
        "poly_mse = mean_squared_error(y, y_pred_poly)\n",
        "poly_r2 = r2_score(y, y_pred_poly)\n",
        "\n",
        "# Visualize the original data and the polynomial fit\n",
        "plt.figure(figsize=(6, 4))\n",
        "plt.scatter(X, y, color='blue', alpha=0.5, label='Original Data')\n",
        "plt.plot(X, y_pred_linear, color='green', linewidth=2, label='Linear Fit')\n",
        "plt.plot(X, poly_model.predict(X_poly), color='red', linewidth=2, label='Polynomial Fit')\n",
        "plt.title('Regression Model Comparison')\n",
        "plt.xlabel('GrLivArea')\n",
        "plt.ylabel('SalePrice')\n",
        "plt.legend()\n",
        "\n",
        "# Add R^2 value label to the plot in a box oriented to the right\n",
        "textstr = f'Linear R^2: {linear_r2:.2f}\\nPolynomial R^2: {poly_r2:.2f}'\n",
        "props = dict(boxstyle='round', facecolor='wheat', alpha=0.5)\n",
        "plt.text(0.95, 0.05, textstr, transform=plt.gca().transAxes, fontsize=10,\n",
        "         verticalalignment='bottom', horizontalalignment='right', bbox=props)\n",
        "\n",
        "plt.show()\n",
        "\n",
        "# Print the results\n",
        "print(\"Linear Regression Results:\")\n",
        "print(f\"- Linear Regression Mean MSE: {mean_linear_mse:.2f}\")\n",
        "print(f\"- Linear Regression R^2 Score: {linear_r2:.2f}\")\n",
        "\n",
        "print(\"Polynomial Regression Results:\")\n",
        "print(f\"- Polynomial Regression Mean MSE: {poly_mse:.2f}\")\n",
        "print(f\"- Polynomial Regression R^2 Score: {poly_r2:.2f}\")\n",
        "\n",
        "# Recommendation based on MSE comparison\n",
        "if poly_mse < mean_linear_mse:\n",
        "    print(\"Recommendations:\")\n",
        "    print(\"The polynomial regression model performs better than the linear regression model.\")\n",
        "    print(f\"- Detailed Statistics for Polynomial Regression Model:\")\n",
        "    print(f\"- Mean Squared Error (MSE): {poly_mse:.2f}\")\n",
        "    print(f\"- R^2 Score: {poly_r2:.2f}\")\n",
        "else:\n",
        "    print(\"Recommendations:\")\n",
        "    print(\"The linear regression model performs better than the polynomial regression model.\")\n",
        "    print(f\"Detailed Statistics for Linear Regression Model:\")\n",
        "    print(f\"- Mean Squared Error (MSE): {mean_linear_mse:.2f}\")\n",
        "    print(f\"- R^2 Score: {linear_r2:.2f}\")"
      ]
    },
    {
      "cell_type": "markdown",
      "metadata": {
        "id": "ffohjYUDjFcQ"
      },
      "source": [
        "### Try a Feature with higher correlation\n",
        "\n",
        "Let's look again at the strength of our correlations after One-hot encoding"
      ]
    },
    {
      "cell_type": "code",
      "execution_count": null,
      "metadata": {
        "id": "kHFVcD-TjYHg"
      },
      "outputs": [],
      "source": [
        "import seaborn as sns\n",
        "import matplotlib.pyplot as plt\n",
        "import numpy as np\n",
        "\n",
        "# Assuming 'house_df_encoded' is your DataFrame\n",
        "corr_matrix = house_df_encoded.corr().abs()\n",
        "\n",
        "# Get the correlation of all features with 'SalePrice', excluding the target itself\n",
        "saleprice_corr = corr_matrix['SalePrice'].drop('SalePrice')\n",
        "\n",
        "# Define a threshold for selecting features, e.g., 0.5\n",
        "threshold = 0.5\n",
        "\n",
        "# Find features with correlation to 'SalePrice' greater than the threshold\n",
        "selected_features = saleprice_corr[saleprice_corr > threshold].index.tolist()\n",
        "\n",
        "# Filter and sort the correlations of the selected features in descending order\n",
        "selected_saleprice_corr = saleprice_corr[selected_features].sort_values(ascending=False)\n",
        "\n",
        "print(\"Correlation to Sale Price (r**2 > 0.5):\")\n",
        "print(selected_saleprice_corr)"
      ]
    },
    {
      "cell_type": "markdown",
      "source": [
        "Choose a stronger correlation"
      ],
      "metadata": {
        "id": "xrMH1kpZauhM"
      }
    },
    {
      "cell_type": "code",
      "execution_count": null,
      "metadata": {
        "id": "2IeBpnDTjiVu"
      },
      "outputs": [],
      "source": [
        "Feature = 'TotalSF'"
      ]
    },
    {
      "cell_type": "code",
      "execution_count": null,
      "metadata": {
        "id": "abXMb7j3ljbC"
      },
      "outputs": [],
      "source": [
        "# Assuming 'house_df_encoded' is your DataFrame\n",
        "total_sf_stats = house_df_encoded[Feature].describe()\n",
        "\n",
        "print(\"Descriptive statistics for\", Feature,\":\")\n",
        "print(total_sf_stats)"
      ]
    },
    {
      "cell_type": "code",
      "execution_count": null,
      "metadata": {
        "id": "b73GUICGji0x"
      },
      "outputs": [],
      "source": [
        "# Import necessary libraries\n",
        "import numpy as np\n",
        "from sklearn.model_selection import cross_val_score, KFold\n",
        "from sklearn.linear_model import LinearRegression\n",
        "from sklearn.preprocessing import PolynomialFeatures\n",
        "from sklearn.metrics import mean_squared_error, r2_score\n",
        "import matplotlib.pyplot as plt\n",
        "\n",
        "Feature = Feature\n",
        "Target = 'SalePrice'\n",
        "\n",
        "# Define the feature and target\n",
        "X = house_df_encoded[[Feature]]  # Feature\n",
        "y = house_df_encoded[Target]    # Target\n",
        "\n",
        "# Determine the number of folds for cross-validation\n",
        "n_folds = 5\n",
        "\n",
        "# Initialize the linear regression model\n",
        "linear_model = LinearRegression()\n",
        "\n",
        "# Define the k-fold cross-validation\n",
        "kf = KFold(n_splits=n_folds, shuffle=True, random_state=42)\n",
        "\n",
        "# Perform cross-validation and calculate the Mean Squared Error (MSE) for linear regression\n",
        "linear_mse_scores = cross_val_score(linear_model, X, y, cv=kf, scoring='neg_mean_squared_error')\n",
        "linear_mse_scores = -linear_mse_scores  # Convert negative MSE to positive\n",
        "mean_linear_mse = np.mean(linear_mse_scores)\n",
        "std_linear_mse = np.std(linear_mse_scores)\n",
        "\n",
        "# Fit the linear regression model on the entire dataset\n",
        "linear_model.fit(X, y)\n",
        "\n",
        "# Make predictions with linear regression\n",
        "y_pred_linear = linear_model.predict(X)\n",
        "\n",
        "# Evaluate the performance of the linear regression model\n",
        "linear_r2 = r2_score(y, y_pred_linear)\n",
        "\n",
        "# Create polynomial features (degree 3 for cubic)\n",
        "poly = PolynomialFeatures(degree=3)\n",
        "X_poly = poly.fit_transform(X)\n",
        "\n",
        "# Fit linear regression model on the polynomial features\n",
        "poly_model = LinearRegression()\n",
        "poly_model.fit(X_poly, y)\n",
        "\n",
        "# Make predictions with polynomial regression\n",
        "y_pred_poly = poly_model.predict(X_poly)\n",
        "\n",
        "# Evaluate the performance of the polynomial regression model\n",
        "poly_mse = mean_squared_error(y, y_pred_poly)\n",
        "poly_r2 = r2_score(y, y_pred_poly)\n",
        "\n",
        "# Visualize the original data and the polynomial fit\n",
        "plt.figure(figsize=(6, 4))\n",
        "plt.scatter(X, y, color='blue', alpha=0.5, label='Original Data')\n",
        "plt.plot(X, y_pred_linear, color='green', linewidth=2, label='Linear Fit')\n",
        "plt.plot(X, poly_model.predict(X_poly), color='red', linewidth=2, label='Polynomial Fit')\n",
        "plt.title('Regression Model Comparison')\n",
        "plt.xlabel('GrLivArea')\n",
        "plt.ylabel('SalePrice')\n",
        "plt.legend()\n",
        "\n",
        "# Add R^2 value label to the plot in a box oriented to the right\n",
        "textstr = f'Linear R^2: {linear_r2:.2f}\\nPolynomial R^2: {poly_r2:.2f}'\n",
        "props = dict(boxstyle='round', facecolor='wheat', alpha=0.5)\n",
        "plt.text(0.95, 0.05, textstr, transform=plt.gca().transAxes, fontsize=10,\n",
        "         verticalalignment='bottom', horizontalalignment='right', bbox=props)\n",
        "\n",
        "plt.show()\n",
        "\n",
        "# Print the results\n",
        "print(\"Linear Regression Results:\")\n",
        "print(f\"- Linear Regression Mean MSE: {mean_linear_mse:.2f}\")\n",
        "print(f\"- Linear Regression R^2 Score: {linear_r2:.2f}\")\n",
        "\n",
        "print(\"Polynomial Regression Results:\")\n",
        "print(f\"- Polynomial Regression Mean MSE: {poly_mse:.2f}\")\n",
        "print(f\"- Polynomial Regression R^2 Score: {poly_r2:.2f}\")\n",
        "\n",
        "# Recommendation based on MSE comparison\n",
        "if poly_mse < mean_linear_mse:\n",
        "    print(\"Recommendations:\")\n",
        "    print(\"The polynomial regression model performs better than the linear regression model.\")\n",
        "    print(f\"- Detailed Statistics for Polynomial Regression Model:\")\n",
        "    print(f\"- Mean Squared Error (MSE): {poly_mse:.2f}\")\n",
        "    print(f\"- R^2 Score: {poly_r2:.2f}\")\n",
        "else:\n",
        "    print(\"Recommendations:\")\n",
        "    print(\"The linear regression model performs better than the polynomial regression model.\")\n",
        "    print(f\"Detailed Statistics for Linear Regression Model:\")\n",
        "    print(f\"- Mean Squared Error (MSE): {mean_linear_mse:.2f}\")\n",
        "    print(f\"- R^2 Score: {linear_r2:.2f}\")"
      ]
    },
    {
      "cell_type": "markdown",
      "metadata": {
        "id": "56QK2F6hkORW"
      },
      "source": [
        "### Try a stronger correlation AND a cap"
      ]
    },
    {
      "cell_type": "code",
      "execution_count": null,
      "metadata": {
        "id": "fd5Zv5Qlkc-z"
      },
      "outputs": [],
      "source": [
        "Feature = 'TotalSF'"
      ]
    },
    {
      "cell_type": "code",
      "execution_count": null,
      "metadata": {
        "id": "nHM1L4NPkZSy"
      },
      "outputs": [],
      "source": [
        "Cap = 7000 # Try 4,000 and 8,000 for comparison"
      ]
    },
    {
      "cell_type": "code",
      "execution_count": null,
      "metadata": {
        "id": "FraTzrpom0ap"
      },
      "outputs": [],
      "source": [
        "# Import necessary libraries\n",
        "import numpy as np\n",
        "from sklearn.model_selection import cross_val_score, KFold\n",
        "from sklearn.linear_model import LinearRegression\n",
        "from sklearn.preprocessing import PolynomialFeatures\n",
        "from sklearn.metrics import mean_squared_error, r2_score\n",
        "import matplotlib.pyplot as plt\n",
        "\n",
        "Feature = Feature\n",
        "Target = 'SalePrice'\n",
        "\n",
        "# Define the feature and target\n",
        "X = house_df_encoded[[Feature]]  # Feature\n",
        "y = house_df_encoded[Target]    # Target\n",
        "\n",
        "# Remove cases where TotalSF is greater than 4000\n",
        "mask = X[Feature] <= Cap\n",
        "X = X[mask]\n",
        "y = y[mask]\n",
        "\n",
        "# Determine the number of folds for cross-validation\n",
        "n_folds = 10\n",
        "\n",
        "# Initialize the linear regression model\n",
        "linear_model = LinearRegression()\n",
        "\n",
        "# Define the k-fold cross-validation\n",
        "kf = KFold(n_splits=n_folds, shuffle=True, random_state=42)\n",
        "\n",
        "# Perform cross-validation and calculate the Mean Squared Error (MSE) for linear regression\n",
        "linear_mse_scores = cross_val_score(linear_model, X, y, cv=kf, scoring='neg_mean_squared_error')\n",
        "linear_mse_scores = -linear_mse_scores  # Convert negative MSE to positive\n",
        "mean_linear_mse = np.mean(linear_mse_scores)\n",
        "std_linear_mse = np.std(linear_mse_scores)\n",
        "\n",
        "# Fit the linear regression model on the entire dataset\n",
        "linear_model.fit(X, y)\n",
        "\n",
        "# Make predictions with linear regression\n",
        "y_pred_linear = linear_model.predict(X)\n",
        "\n",
        "# Evaluate the performance of the linear regression model\n",
        "linear_r2 = r2_score(y, y_pred_linear)\n",
        "\n",
        "# Create polynomial features (degree 3 for cubic)\n",
        "poly = PolynomialFeatures(degree=3)\n",
        "X_poly = poly.fit_transform(X)\n",
        "\n",
        "# Fit linear regression model on the polynomial features\n",
        "poly_model = LinearRegression()\n",
        "poly_model.fit(X_poly, y)\n",
        "\n",
        "# Make predictions with polynomial regression\n",
        "y_pred_poly = poly_model.predict(X_poly)\n",
        "\n",
        "# Evaluate the performance of the polynomial regression model\n",
        "poly_mse = mean_squared_error(y, y_pred_poly)\n",
        "poly_r2 = r2_score(y, y_pred_poly)\n",
        "\n",
        "# Visualize the original data and the polynomial fit\n",
        "plt.figure(figsize=(6, 4))\n",
        "plt.scatter(X[Feature], y, color='blue', alpha=0.5, label='Original Data')\n",
        "plt.plot(X[Feature], y_pred_linear, color='green', linewidth=2, label='Linear Fit')\n",
        "plt.plot(X[Feature], poly_model.predict(X_poly), color='red', linewidth=2, label='Polynomial Fit')\n",
        "plt.title('Regression Model Comparison')\n",
        "plt.xlabel(Feature)\n",
        "plt.ylabel(Target)\n",
        "plt.legend()\n",
        "\n",
        "# Add R^2 value label to the plot in a box oriented to the right\n",
        "textstr = f'Linear R^2: {linear_r2:.2f}\\nPolynomial R^2: {poly_r2:.2f}'\n",
        "props = dict(boxstyle='round', facecolor='wheat', alpha=0.5)\n",
        "plt.text(0.95, 0.05, textstr, transform=plt.gca().transAxes, fontsize=10,\n",
        "         verticalalignment='bottom', horizontalalignment='right', bbox=props)\n",
        "\n",
        "plt.show()\n",
        "\n",
        "# Print the results\n",
        "print(\"Linear Regression Results:\")\n",
        "print(f\"- Linear Regression Mean MSE: {mean_linear_mse:.2f}\")\n",
        "print(f\"- Linear Regression R^2 Score: {linear_r2:.2f}\")\n",
        "\n",
        "print(\"Polynomial Regression Results:\")\n",
        "print(f\"- Polynomial Regression Mean MSE: {poly_mse:.2f}\")\n",
        "print(f\"- Polynomial Regression R^2 Score: {poly_r2:.2f}\")\n",
        "\n",
        "# Recommendation based on MSE comparison\n",
        "if poly_mse < mean_linear_mse:\n",
        "    print(\"Recommendations:\")\n",
        "    print(\"The polynomial regression model performs better than the linear regression model.\")\n",
        "    print(f\"- Detailed Statistics for Polynomial Regression Model:\")\n",
        "    print(f\"- Mean Squared Error (MSE): {poly_mse:.2f}\")\n",
        "    print(f\"- R^2 Score: {poly_r2:.2f}\")\n",
        "else:\n",
        "    print(\"Recommendations:\")\n",
        "    print(\"The linear regression model performs better than the polynomial regression model.\")\n",
        "    print(f\"Detailed Statistics for Linear Regression Model:\")\n",
        "    print(f\"- Mean Squared Error (MSE): {mean_linear_mse:.2f}\")\n",
        "    print(f\"- R^2 Score: {linear_r2:.2f}\")"
      ]
    },
    {
      "cell_type": "markdown",
      "source": [
        "# Stage 6: Deploy Model"
      ],
      "metadata": {
        "id": "lgGmhQDCaODW"
      }
    },
    {
      "cell_type": "markdown",
      "source": [
        "## Program your AI to use the prediction model"
      ],
      "metadata": {
        "id": "6avhEHTvbKf7"
      }
    },
    {
      "cell_type": "code",
      "source": [
        "import numpy as np\n",
        "from sklearn.model_selection import KFold, cross_val_score\n",
        "from sklearn.linear_model import LinearRegression\n",
        "from sklearn.preprocessing import PolynomialFeatures\n",
        "from sklearn.metrics import mean_squared_error, r2_score\n",
        "import pandas as pd\n",
        "\n",
        "def run_model_application():\n",
        "    # Sample dataset (replace with your own data)\n",
        "    house_df_encoded = pd.DataFrame({\n",
        "        'TotalSF': np.random.randint(1000, 5000, size=100),\n",
        "        'SalePrice': np.random.randint(100000, 500000, size=100)\n",
        "    })\n",
        "\n",
        "    def get_user_input():\n",
        "        print(\"Select the type of model:\")\n",
        "        print(\"1. Linear Regression\")\n",
        "        print(\"2. Polynomial Regression\")\n",
        "        model_choice = input(\"Enter the number corresponding to your choice (1 or 2): \")\n",
        "\n",
        "        feature = input(\"Enter the feature column name (e.g., 'TotalSF'): \")\n",
        "        max_value = float(input(\"Enter the maximum value for the feature: \"))\n",
        "\n",
        "        return model_choice, feature, max_value\n",
        "\n",
        "    def preprocess_data(feature, max_value):\n",
        "        X = house_df_encoded[[feature]]\n",
        "        y = house_df_encoded['SalePrice']\n",
        "\n",
        "        mask = X[feature] <= max_value\n",
        "        X = X[mask]\n",
        "        y = y[mask]\n",
        "\n",
        "        return X, y\n",
        "\n",
        "    def linear_regression_model(X, y):\n",
        "        model = LinearRegression()\n",
        "        kf = KFold(n_splits=10, shuffle=True, random_state=42)\n",
        "        mse_scores = -cross_val_score(model, X, y, cv=kf, scoring='neg_mean_squared_error')\n",
        "\n",
        "        model.fit(X, y)\n",
        "        y_pred = model.predict(X)\n",
        "\n",
        "        r2 = r2_score(y, y_pred)\n",
        "\n",
        "        return mse_scores.mean(), mse_scores.std(), r2, model\n",
        "\n",
        "    def polynomial_regression_model(X, y, degree=3):\n",
        "        poly = PolynomialFeatures(degree=degree)\n",
        "        X_poly = poly.fit_transform(X)\n",
        "\n",
        "        model = LinearRegression()\n",
        "        kf = KFold(n_splits=10, shuffle=True, random_state=42)\n",
        "        mse_scores = -cross_val_score(model, X_poly, y, cv=kf, scoring='neg_mean_squared_error')\n",
        "\n",
        "        model.fit(X_poly, y)\n",
        "        y_pred = model.predict(X_poly)\n",
        "\n",
        "        r2 = r2_score(y, y_pred)\n",
        "\n",
        "        return mse_scores.mean(), mse_scores.std(), r2, model, poly\n",
        "\n",
        "    model_choice, feature, max_value = get_user_input()\n",
        "    X, y = preprocess_data(feature, max_value)\n",
        "\n",
        "    if model_choice == \"1\":\n",
        "        mean_mse, std_mse, r2, model = linear_regression_model(X, y)\n",
        "        #print(f\"Linear Regression Results:\")\n",
        "        #print(f\"- Mean MSE: {mean_mse:.2f}\")\n",
        "        #print(f\"- R^2 Score: {r2:.2f}\")\n",
        "\n",
        "    elif model_choice == \"2\":\n",
        "        mean_mse, std_mse, r2, model, poly = polynomial_regression_model(X, y)\n",
        "        #print(f\"Polynomial Regression Results:\")\n",
        "        #print(f\"- Mean MSE: {mean_mse:.2f}\")\n",
        "        #print(f\"- R^2 Score: {r2:.2f}\")\n",
        "\n",
        "    else:\n",
        "        print(\"Invalid choice. Please restart the program.\")\n",
        "        return\n",
        "\n",
        "    try:\n",
        "        input_value = float(input(f\"Enter the {feature} value to predict SalePrice: \"))\n",
        "        if model_choice == \"1\":\n",
        "            prediction = model.predict(pd.DataFrame([[input_value]], columns=[feature]))[0]\n",
        "        elif model_choice == \"2\":\n",
        "            prediction = model.predict(poly.transform(pd.DataFrame([[input_value]], columns=[feature])))[0]\n",
        "        print(f\"Predicted SalePrice: ${prediction:.2f}\")\n",
        "    except ValueError:\n",
        "        print(\"Invalid input. Please enter a numeric value.\")\n",
        "\n",
        "#if __name__ == \"__main__\":\n",
        "#    run_model_application()"
      ],
      "metadata": {
        "id": "Fr1dWJTdDim3"
      },
      "execution_count": null,
      "outputs": []
    },
    {
      "cell_type": "markdown",
      "source": [
        "## Engage Artificial Intelligence\n",
        "\n",
        "Ask Rayne 1.0 to guess the house price. I dare you."
      ],
      "metadata": {
        "id": "MpY2tNRBbnZV"
      }
    },
    {
      "cell_type": "markdown",
      "source": [
        " ![Emo Kid](https://github.com/Jrk373/ODSC_AI_5_Week_Bootcamp/blob/main/Kid.jpg?raw=true)"
      ],
      "metadata": {
        "id": "5lBzUZDOYFNM"
      }
    },
    {
      "cell_type": "code",
      "source": [
        "run_model_application()"
      ],
      "metadata": {
        "id": "R70mtlY7MoWv"
      },
      "execution_count": null,
      "outputs": []
    }
  ],
  "metadata": {
    "colab": {
      "provenance": [],
      "toc_visible": true,
      "authorship_tag": "ABX9TyNftnAERZ6S6MwmCD5QI/wM",
      "include_colab_link": true
    },
    "kernelspec": {
      "display_name": "Python 3",
      "name": "python3"
    },
    "language_info": {
      "name": "python"
    }
  },
  "nbformat": 4,
  "nbformat_minor": 0
}